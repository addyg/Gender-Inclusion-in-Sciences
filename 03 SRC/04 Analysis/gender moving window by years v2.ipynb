{
 "cells": [
  {
   "cell_type": "code",
   "execution_count": 30,
   "metadata": {},
   "outputs": [],
   "source": [
    "import sys\n",
    "import os\n",
    "import glob\n",
    "import json\n",
    "import pandas as pd\n",
    "import numpy as np\n",
    "import seaborn as sns\n",
    "import matplotlib.pyplot as plt\n",
    "import plotly.express as px\n",
    "import plotly.graph_objects as go\n",
    "%matplotlib inline"
   ]
  },
  {
   "cell_type": "code",
   "execution_count": 2,
   "metadata": {},
   "outputs": [],
   "source": [
    "df = pd.read_csv('../../01 Data/03 Consolidated/authors_with_gender_v111.csv')"
   ]
  },
  {
   "cell_type": "code",
   "execution_count": 147,
   "metadata": {},
   "outputs": [],
   "source": [
    "# df"
   ]
  },
  {
   "cell_type": "code",
   "execution_count": null,
   "metadata": {},
   "outputs": [],
   "source": []
  },
  {
   "cell_type": "markdown",
   "metadata": {},
   "source": [
    "### Check which decade has maximum number of genders for author names"
   ]
  },
  {
   "cell_type": "markdown",
   "metadata": {},
   "source": [
    "###### Make yr column"
   ]
  },
  {
   "cell_type": "code",
   "execution_count": 4,
   "metadata": {},
   "outputs": [],
   "source": [
    "# Change format to datetime\n",
    "df['date'] = df['date'].astype('datetime64[ns]')\n",
    "\n",
    "# As no time val, extract date, yrmo, yr\n",
    "df['YearMonth'] = df['date'].map(lambda x: 100*x.year + x.month)\n",
    "df['year'] = pd.DatetimeIndex(df['date']).year"
   ]
  },
  {
   "cell_type": "code",
   "execution_count": 148,
   "metadata": {},
   "outputs": [
    {
     "data": {
      "text/html": [
       "<div>\n",
       "<style scoped>\n",
       "    .dataframe tbody tr th:only-of-type {\n",
       "        vertical-align: middle;\n",
       "    }\n",
       "\n",
       "    .dataframe tbody tr th {\n",
       "        vertical-align: top;\n",
       "    }\n",
       "\n",
       "    .dataframe thead th {\n",
       "        text-align: right;\n",
       "    }\n",
       "</style>\n",
       "<table border=\"1\" class=\"dataframe\">\n",
       "  <thead>\n",
       "    <tr style=\"text-align: right;\">\n",
       "      <th></th>\n",
       "      <th>paper_id</th>\n",
       "      <th>date</th>\n",
       "      <th>name</th>\n",
       "      <th>fname</th>\n",
       "      <th>lname</th>\n",
       "      <th>affiliationIds</th>\n",
       "      <th>norm_fname</th>\n",
       "      <th>gender</th>\n",
       "      <th>YearMonth</th>\n",
       "      <th>year</th>\n",
       "      <th>gen_bool</th>\n",
       "    </tr>\n",
       "  </thead>\n",
       "  <tbody>\n",
       "    <tr>\n",
       "      <td>2503838</td>\n",
       "      <td>10.1103/PhysRevSTAB.14.014001</td>\n",
       "      <td>2011-01-21</td>\n",
       "      <td>Mikhail Zobov</td>\n",
       "      <td>Mikhail</td>\n",
       "      <td>Zobov</td>\n",
       "      <td>a2</td>\n",
       "      <td>mikhail</td>\n",
       "      <td>male</td>\n",
       "      <td>201101</td>\n",
       "      <td>2011</td>\n",
       "      <td>1</td>\n",
       "    </tr>\n",
       "    <tr>\n",
       "      <td>2503839</td>\n",
       "      <td>10.1103/PhysRevSTAB.14.090401</td>\n",
       "      <td>2011-09-15</td>\n",
       "      <td>A. Lorusso</td>\n",
       "      <td>A.</td>\n",
       "      <td>Lorusso</td>\n",
       "      <td>a1</td>\n",
       "      <td>a</td>\n",
       "      <td>NaN</td>\n",
       "      <td>201109</td>\n",
       "      <td>2011</td>\n",
       "      <td>0</td>\n",
       "    </tr>\n",
       "    <tr>\n",
       "      <td>2503840</td>\n",
       "      <td>10.1103/PhysRevSTAB.14.090401</td>\n",
       "      <td>2011-09-15</td>\n",
       "      <td>F. Gontad</td>\n",
       "      <td>F.</td>\n",
       "      <td>Gontad</td>\n",
       "      <td>a1</td>\n",
       "      <td>f</td>\n",
       "      <td>NaN</td>\n",
       "      <td>201109</td>\n",
       "      <td>2011</td>\n",
       "      <td>0</td>\n",
       "    </tr>\n",
       "    <tr>\n",
       "      <td>2503841</td>\n",
       "      <td>10.1103/PhysRevSTAB.14.090401</td>\n",
       "      <td>2011-09-15</td>\n",
       "      <td>A. Perrone</td>\n",
       "      <td>A.</td>\n",
       "      <td>Perrone</td>\n",
       "      <td>a1</td>\n",
       "      <td>a</td>\n",
       "      <td>NaN</td>\n",
       "      <td>201109</td>\n",
       "      <td>2011</td>\n",
       "      <td>0</td>\n",
       "    </tr>\n",
       "    <tr>\n",
       "      <td>2503842</td>\n",
       "      <td>10.1103/PhysRevSTAB.14.090401</td>\n",
       "      <td>2011-09-15</td>\n",
       "      <td>N. Stankova</td>\n",
       "      <td>N.</td>\n",
       "      <td>Stankova</td>\n",
       "      <td>a2</td>\n",
       "      <td>n</td>\n",
       "      <td>NaN</td>\n",
       "      <td>201109</td>\n",
       "      <td>2011</td>\n",
       "      <td>0</td>\n",
       "    </tr>\n",
       "  </tbody>\n",
       "</table>\n",
       "</div>"
      ],
      "text/plain": [
       "                              paper_id       date           name    fname  \\\n",
       "2503838  10.1103/PhysRevSTAB.14.014001 2011-01-21  Mikhail Zobov  Mikhail   \n",
       "2503839  10.1103/PhysRevSTAB.14.090401 2011-09-15     A. Lorusso       A.   \n",
       "2503840  10.1103/PhysRevSTAB.14.090401 2011-09-15      F. Gontad       F.   \n",
       "2503841  10.1103/PhysRevSTAB.14.090401 2011-09-15     A. Perrone       A.   \n",
       "2503842  10.1103/PhysRevSTAB.14.090401 2011-09-15    N. Stankova       N.   \n",
       "\n",
       "            lname affiliationIds norm_fname gender  YearMonth  year  gen_bool  \n",
       "2503838     Zobov             a2    mikhail   male     201101  2011         1  \n",
       "2503839   Lorusso             a1          a    NaN     201109  2011         0  \n",
       "2503840    Gontad             a1          f    NaN     201109  2011         0  \n",
       "2503841   Perrone             a1          a    NaN     201109  2011         0  \n",
       "2503842  Stankova             a2          n    NaN     201109  2011         0  "
      ]
     },
     "execution_count": 148,
     "metadata": {},
     "output_type": "execute_result"
    }
   ],
   "source": [
    "df.tail(5)"
   ]
  },
  {
   "cell_type": "markdown",
   "metadata": {},
   "source": [
    "##### Identify if gender available for that author"
   ]
  },
  {
   "cell_type": "code",
   "execution_count": 92,
   "metadata": {},
   "outputs": [],
   "source": [
    "df['gen_bool'] = df['gender'].apply(lambda x: 1 if x == 'male' or x == 'female' else 0)"
   ]
  },
  {
   "cell_type": "markdown",
   "metadata": {},
   "source": [
    "##### Rollup data at year level, to see count of authors, and count of authors with genders for that year"
   ]
  },
  {
   "cell_type": "code",
   "execution_count": 93,
   "metadata": {},
   "outputs": [],
   "source": [
    "df_yr = df.groupby(['year']).agg({'name': 'count', 'gen_bool': 'sum'}).reset_index()"
   ]
  },
  {
   "cell_type": "code",
   "execution_count": 94,
   "metadata": {},
   "outputs": [
    {
     "data": {
      "text/html": [
       "<div>\n",
       "<style scoped>\n",
       "    .dataframe tbody tr th:only-of-type {\n",
       "        vertical-align: middle;\n",
       "    }\n",
       "\n",
       "    .dataframe tbody tr th {\n",
       "        vertical-align: top;\n",
       "    }\n",
       "\n",
       "    .dataframe thead th {\n",
       "        text-align: right;\n",
       "    }\n",
       "</style>\n",
       "<table border=\"1\" class=\"dataframe\">\n",
       "  <thead>\n",
       "    <tr style=\"text-align: right;\">\n",
       "      <th></th>\n",
       "      <th>year</th>\n",
       "      <th>name</th>\n",
       "      <th>gen_bool</th>\n",
       "    </tr>\n",
       "  </thead>\n",
       "  <tbody>\n",
       "    <tr>\n",
       "      <td>0</td>\n",
       "      <td>1893</td>\n",
       "      <td>20</td>\n",
       "      <td>7</td>\n",
       "    </tr>\n",
       "    <tr>\n",
       "      <td>1</td>\n",
       "      <td>1894</td>\n",
       "      <td>25</td>\n",
       "      <td>5</td>\n",
       "    </tr>\n",
       "    <tr>\n",
       "      <td>2</td>\n",
       "      <td>1895</td>\n",
       "      <td>33</td>\n",
       "      <td>5</td>\n",
       "    </tr>\n",
       "    <tr>\n",
       "      <td>3</td>\n",
       "      <td>1896</td>\n",
       "      <td>31</td>\n",
       "      <td>2</td>\n",
       "    </tr>\n",
       "    <tr>\n",
       "      <td>4</td>\n",
       "      <td>1897</td>\n",
       "      <td>56</td>\n",
       "      <td>9</td>\n",
       "    </tr>\n",
       "    <tr>\n",
       "      <td>...</td>\n",
       "      <td>...</td>\n",
       "      <td>...</td>\n",
       "      <td>...</td>\n",
       "    </tr>\n",
       "    <tr>\n",
       "      <td>121</td>\n",
       "      <td>2014</td>\n",
       "      <td>89605</td>\n",
       "      <td>22915</td>\n",
       "    </tr>\n",
       "    <tr>\n",
       "      <td>122</td>\n",
       "      <td>2015</td>\n",
       "      <td>90298</td>\n",
       "      <td>23463</td>\n",
       "    </tr>\n",
       "    <tr>\n",
       "      <td>123</td>\n",
       "      <td>2016</td>\n",
       "      <td>97724</td>\n",
       "      <td>26217</td>\n",
       "    </tr>\n",
       "    <tr>\n",
       "      <td>124</td>\n",
       "      <td>2017</td>\n",
       "      <td>103318</td>\n",
       "      <td>29146</td>\n",
       "    </tr>\n",
       "    <tr>\n",
       "      <td>125</td>\n",
       "      <td>2018</td>\n",
       "      <td>108187</td>\n",
       "      <td>31450</td>\n",
       "    </tr>\n",
       "  </tbody>\n",
       "</table>\n",
       "<p>126 rows × 3 columns</p>\n",
       "</div>"
      ],
      "text/plain": [
       "     year    name  gen_bool\n",
       "0    1893      20         7\n",
       "1    1894      25         5\n",
       "2    1895      33         5\n",
       "3    1896      31         2\n",
       "4    1897      56         9\n",
       "..    ...     ...       ...\n",
       "121  2014   89605     22915\n",
       "122  2015   90298     23463\n",
       "123  2016   97724     26217\n",
       "124  2017  103318     29146\n",
       "125  2018  108187     31450\n",
       "\n",
       "[126 rows x 3 columns]"
      ]
     },
     "execution_count": 94,
     "metadata": {},
     "output_type": "execute_result"
    }
   ],
   "source": [
    "df_yr"
   ]
  },
  {
   "cell_type": "code",
   "execution_count": 151,
   "metadata": {},
   "outputs": [
    {
     "data": {
      "image/png": "[encoded data removed]",
      "text/plain": [
       "<Figure size 864x288 with 1 Axes>"
      ]
     },
     "metadata": {
      "needs_background": "light"
     },
     "output_type": "display_data"
    }
   ],
   "source": [
    "fig = plt.figure(figsize=(12, 4))\n",
    "width = 0.6\n",
    "plt.bar(df_yr.year, df_yr.name, width )\n",
    "plt.bar(df_yr.year + width , df_yr.gen_bool, width )\n",
    "plt.show()"
   ]
  },
  {
   "cell_type": "markdown",
   "metadata": {},
   "source": [
    "##### Filter data for 1950 and abaove"
   ]
  },
  {
   "cell_type": "code",
   "execution_count": 152,
   "metadata": {},
   "outputs": [],
   "source": [
    "df2 = df_yr[df_yr.year > 1950]"
   ]
  },
  {
   "cell_type": "markdown",
   "metadata": {},
   "source": [
    "###### Cut data into differnt decades"
   ]
  },
  {
   "cell_type": "code",
   "execution_count": 155,
   "metadata": {},
   "outputs": [
    {
     "name": "stderr",
     "output_type": "stream",
     "text": [
      "/Users/adityagupta/opt/anaconda3/lib/python3.7/site-packages/ipykernel_launcher.py:1: SettingWithCopyWarning:\n",
      "\n",
      "\n",
      "A value is trying to be set on a copy of a slice from a DataFrame.\n",
      "Try using .loc[row_indexer,col_indexer] = value instead\n",
      "\n",
      "See the caveats in the documentation: http://pandas.pydata.org/pandas-docs/stable/user_guide/indexing.html#returning-a-view-versus-a-copy\n",
      "\n"
     ]
    },
    {
     "data": {
      "text/html": [
       "<div>\n",
       "<style scoped>\n",
       "    .dataframe tbody tr th:only-of-type {\n",
       "        vertical-align: middle;\n",
       "    }\n",
       "\n",
       "    .dataframe tbody tr th {\n",
       "        vertical-align: top;\n",
       "    }\n",
       "\n",
       "    .dataframe thead th {\n",
       "        text-align: right;\n",
       "    }\n",
       "</style>\n",
       "<table border=\"1\" class=\"dataframe\">\n",
       "  <thead>\n",
       "    <tr style=\"text-align: right;\">\n",
       "      <th></th>\n",
       "      <th>year</th>\n",
       "      <th>name</th>\n",
       "      <th>gen_bool</th>\n",
       "      <th>yr_subset</th>\n",
       "    </tr>\n",
       "  </thead>\n",
       "  <tbody>\n",
       "    <tr>\n",
       "      <td>58</td>\n",
       "      <td>1951</td>\n",
       "      <td>2950</td>\n",
       "      <td>308</td>\n",
       "      <td>(1950, 1960]</td>\n",
       "    </tr>\n",
       "    <tr>\n",
       "      <td>59</td>\n",
       "      <td>1952</td>\n",
       "      <td>2619</td>\n",
       "      <td>275</td>\n",
       "      <td>(1950, 1960]</td>\n",
       "    </tr>\n",
       "    <tr>\n",
       "      <td>60</td>\n",
       "      <td>1953</td>\n",
       "      <td>2985</td>\n",
       "      <td>326</td>\n",
       "      <td>(1950, 1960]</td>\n",
       "    </tr>\n",
       "    <tr>\n",
       "      <td>61</td>\n",
       "      <td>1954</td>\n",
       "      <td>3288</td>\n",
       "      <td>337</td>\n",
       "      <td>(1950, 1960]</td>\n",
       "    </tr>\n",
       "    <tr>\n",
       "      <td>62</td>\n",
       "      <td>1955</td>\n",
       "      <td>2896</td>\n",
       "      <td>306</td>\n",
       "      <td>(1950, 1960]</td>\n",
       "    </tr>\n",
       "    <tr>\n",
       "      <td>...</td>\n",
       "      <td>...</td>\n",
       "      <td>...</td>\n",
       "      <td>...</td>\n",
       "      <td>...</td>\n",
       "    </tr>\n",
       "    <tr>\n",
       "      <td>121</td>\n",
       "      <td>2014</td>\n",
       "      <td>89605</td>\n",
       "      <td>22915</td>\n",
       "      <td>(2010, 2020]</td>\n",
       "    </tr>\n",
       "    <tr>\n",
       "      <td>122</td>\n",
       "      <td>2015</td>\n",
       "      <td>90298</td>\n",
       "      <td>23463</td>\n",
       "      <td>(2010, 2020]</td>\n",
       "    </tr>\n",
       "    <tr>\n",
       "      <td>123</td>\n",
       "      <td>2016</td>\n",
       "      <td>97724</td>\n",
       "      <td>26217</td>\n",
       "      <td>(2010, 2020]</td>\n",
       "    </tr>\n",
       "    <tr>\n",
       "      <td>124</td>\n",
       "      <td>2017</td>\n",
       "      <td>103318</td>\n",
       "      <td>29146</td>\n",
       "      <td>(2010, 2020]</td>\n",
       "    </tr>\n",
       "    <tr>\n",
       "      <td>125</td>\n",
       "      <td>2018</td>\n",
       "      <td>108187</td>\n",
       "      <td>31450</td>\n",
       "      <td>(2010, 2020]</td>\n",
       "    </tr>\n",
       "  </tbody>\n",
       "</table>\n",
       "<p>68 rows × 4 columns</p>\n",
       "</div>"
      ],
      "text/plain": [
       "     year    name  gen_bool     yr_subset\n",
       "58   1951    2950       308  (1950, 1960]\n",
       "59   1952    2619       275  (1950, 1960]\n",
       "60   1953    2985       326  (1950, 1960]\n",
       "61   1954    3288       337  (1950, 1960]\n",
       "62   1955    2896       306  (1950, 1960]\n",
       "..    ...     ...       ...           ...\n",
       "121  2014   89605     22915  (2010, 2020]\n",
       "122  2015   90298     23463  (2010, 2020]\n",
       "123  2016   97724     26217  (2010, 2020]\n",
       "124  2017  103318     29146  (2010, 2020]\n",
       "125  2018  108187     31450  (2010, 2020]\n",
       "\n",
       "[68 rows x 4 columns]"
      ]
     },
     "execution_count": 155,
     "metadata": {},
     "output_type": "execute_result"
    }
   ],
   "source": [
    "df2['yr_subset'] = pd.cut(df2['year'], [1950, 1960, 1970, 1980, 1990, 2000, 2010, 2020])\n",
    "df2"
   ]
  },
  {
   "cell_type": "markdown",
   "metadata": {},
   "source": [
    "###### Rollup data at decade level"
   ]
  },
  {
   "cell_type": "code",
   "execution_count": 156,
   "metadata": {},
   "outputs": [],
   "source": [
    "df3 = df2.groupby(['yr_subset']).agg({'name': 'sum', 'gen_bool': 'sum'}).reset_index()"
   ]
  },
  {
   "cell_type": "code",
   "execution_count": 157,
   "metadata": {},
   "outputs": [
    {
     "data": {
      "text/html": [
       "<div>\n",
       "<style scoped>\n",
       "    .dataframe tbody tr th:only-of-type {\n",
       "        vertical-align: middle;\n",
       "    }\n",
       "\n",
       "    .dataframe tbody tr th {\n",
       "        vertical-align: top;\n",
       "    }\n",
       "\n",
       "    .dataframe thead th {\n",
       "        text-align: right;\n",
       "    }\n",
       "</style>\n",
       "<table border=\"1\" class=\"dataframe\">\n",
       "  <thead>\n",
       "    <tr style=\"text-align: right;\">\n",
       "      <th></th>\n",
       "      <th>yr_subset</th>\n",
       "      <th>name</th>\n",
       "      <th>gen_bool</th>\n",
       "    </tr>\n",
       "  </thead>\n",
       "  <tbody>\n",
       "    <tr>\n",
       "      <td>0</td>\n",
       "      <td>(1950, 1960]</td>\n",
       "      <td>30972</td>\n",
       "      <td>3221</td>\n",
       "    </tr>\n",
       "    <tr>\n",
       "      <td>1</td>\n",
       "      <td>(1960, 1970]</td>\n",
       "      <td>72771</td>\n",
       "      <td>5964</td>\n",
       "    </tr>\n",
       "    <tr>\n",
       "      <td>2</td>\n",
       "      <td>(1970, 1980]</td>\n",
       "      <td>130095</td>\n",
       "      <td>8722</td>\n",
       "    </tr>\n",
       "    <tr>\n",
       "      <td>3</td>\n",
       "      <td>(1980, 1990]</td>\n",
       "      <td>235555</td>\n",
       "      <td>19366</td>\n",
       "    </tr>\n",
       "    <tr>\n",
       "      <td>4</td>\n",
       "      <td>(1990, 2000]</td>\n",
       "      <td>506367</td>\n",
       "      <td>59634</td>\n",
       "    </tr>\n",
       "    <tr>\n",
       "      <td>5</td>\n",
       "      <td>(2000, 2010]</td>\n",
       "      <td>733424</td>\n",
       "      <td>132351</td>\n",
       "    </tr>\n",
       "    <tr>\n",
       "      <td>6</td>\n",
       "      <td>(2010, 2020]</td>\n",
       "      <td>770794</td>\n",
       "      <td>197930</td>\n",
       "    </tr>\n",
       "  </tbody>\n",
       "</table>\n",
       "</div>"
      ],
      "text/plain": [
       "      yr_subset    name  gen_bool\n",
       "0  (1950, 1960]   30972      3221\n",
       "1  (1960, 1970]   72771      5964\n",
       "2  (1970, 1980]  130095      8722\n",
       "3  (1980, 1990]  235555     19366\n",
       "4  (1990, 2000]  506367     59634\n",
       "5  (2000, 2010]  733424    132351\n",
       "6  (2010, 2020]  770794    197930"
      ]
     },
     "execution_count": 157,
     "metadata": {},
     "output_type": "execute_result"
    }
   ],
   "source": [
    "df3"
   ]
  },
  {
   "cell_type": "markdown",
   "metadata": {},
   "source": [
    "##### Calculate % of authors who had gender info for that decade"
   ]
  },
  {
   "cell_type": "code",
   "execution_count": 158,
   "metadata": {},
   "outputs": [],
   "source": [
    "df3['data_w_gender'] = round(100*df3.gen_bool/df3.name, 1)"
   ]
  },
  {
   "cell_type": "code",
   "execution_count": 159,
   "metadata": {},
   "outputs": [
    {
     "data": {
      "text/html": [
       "<div>\n",
       "<style scoped>\n",
       "    .dataframe tbody tr th:only-of-type {\n",
       "        vertical-align: middle;\n",
       "    }\n",
       "\n",
       "    .dataframe tbody tr th {\n",
       "        vertical-align: top;\n",
       "    }\n",
       "\n",
       "    .dataframe thead th {\n",
       "        text-align: right;\n",
       "    }\n",
       "</style>\n",
       "<table border=\"1\" class=\"dataframe\">\n",
       "  <thead>\n",
       "    <tr style=\"text-align: right;\">\n",
       "      <th></th>\n",
       "      <th>yr_subset</th>\n",
       "      <th>name</th>\n",
       "      <th>gen_bool</th>\n",
       "      <th>data_w_gender</th>\n",
       "    </tr>\n",
       "  </thead>\n",
       "  <tbody>\n",
       "    <tr>\n",
       "      <td>0</td>\n",
       "      <td>(1950, 1960]</td>\n",
       "      <td>30972</td>\n",
       "      <td>3221</td>\n",
       "      <td>10.4</td>\n",
       "    </tr>\n",
       "    <tr>\n",
       "      <td>1</td>\n",
       "      <td>(1960, 1970]</td>\n",
       "      <td>72771</td>\n",
       "      <td>5964</td>\n",
       "      <td>8.2</td>\n",
       "    </tr>\n",
       "    <tr>\n",
       "      <td>2</td>\n",
       "      <td>(1970, 1980]</td>\n",
       "      <td>130095</td>\n",
       "      <td>8722</td>\n",
       "      <td>6.7</td>\n",
       "    </tr>\n",
       "    <tr>\n",
       "      <td>3</td>\n",
       "      <td>(1980, 1990]</td>\n",
       "      <td>235555</td>\n",
       "      <td>19366</td>\n",
       "      <td>8.2</td>\n",
       "    </tr>\n",
       "    <tr>\n",
       "      <td>4</td>\n",
       "      <td>(1990, 2000]</td>\n",
       "      <td>506367</td>\n",
       "      <td>59634</td>\n",
       "      <td>11.8</td>\n",
       "    </tr>\n",
       "    <tr>\n",
       "      <td>5</td>\n",
       "      <td>(2000, 2010]</td>\n",
       "      <td>733424</td>\n",
       "      <td>132351</td>\n",
       "      <td>18.0</td>\n",
       "    </tr>\n",
       "    <tr>\n",
       "      <td>6</td>\n",
       "      <td>(2010, 2020]</td>\n",
       "      <td>770794</td>\n",
       "      <td>197930</td>\n",
       "      <td>25.7</td>\n",
       "    </tr>\n",
       "  </tbody>\n",
       "</table>\n",
       "</div>"
      ],
      "text/plain": [
       "      yr_subset    name  gen_bool  data_w_gender\n",
       "0  (1950, 1960]   30972      3221           10.4\n",
       "1  (1960, 1970]   72771      5964            8.2\n",
       "2  (1970, 1980]  130095      8722            6.7\n",
       "3  (1980, 1990]  235555     19366            8.2\n",
       "4  (1990, 2000]  506367     59634           11.8\n",
       "5  (2000, 2010]  733424    132351           18.0\n",
       "6  (2010, 2020]  770794    197930           25.7"
      ]
     },
     "execution_count": 159,
     "metadata": {},
     "output_type": "execute_result"
    }
   ],
   "source": [
    "df3"
   ]
  },
  {
   "cell_type": "code",
   "execution_count": 160,
   "metadata": {},
   "outputs": [],
   "source": [
    "# Convert type for easy plotting\n",
    "df3['yr_subset'] = df3['yr_subset'].astype(str)"
   ]
  },
  {
   "cell_type": "code",
   "execution_count": 164,
   "metadata": {},
   "outputs": [
    {
     "data": {
      "image/png": "[encoded data removed]",
      "text/plain": [
       "<Figure size 720x288 with 1 Axes>"
      ]
     },
     "metadata": {
      "needs_background": "light"
     },
     "output_type": "display_data"
    }
   ],
   "source": [
    "fig = plt.figure(figsize=(10, 4))\n",
    "plt.bar(df3['yr_subset'], df3['data_w_gender'])\n",
    "plt.xlabel('Decades')\n",
    "plt.ylabel('Percentage')\n",
    "plt.title('% of authors with gender info in each decade')\n",
    "plt.savefig('../../04 Plots/% of authors with gender info in each decade.png')\n",
    "plt.show()"
   ]
  },
  {
   "cell_type": "code",
   "execution_count": null,
   "metadata": {},
   "outputs": [],
   "source": []
  }
 ],
 "metadata": {
  "kernelspec": {
   "display_name": "Python 3",
   "language": "python",
   "name": "python3"
  },
  "language_info": {
   "codemirror_mode": {
    "name": "ipython",
    "version": 3
   },
   "file_extension": ".py",
   "mimetype": "text/x-python",
   "name": "python",
   "nbconvert_exporter": "python",
   "pygments_lexer": "ipython3",
   "version": "3.7.4"
  }
 },
 "nbformat": 4,
 "nbformat_minor": 2
}
