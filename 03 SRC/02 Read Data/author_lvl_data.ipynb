{
 "cells": [
  {
   "cell_type": "code",
   "execution_count": 1,
   "metadata": {},
   "outputs": [],
   "source": [
    "import os\n",
    "import glob\n",
    "import pandas as pd\n",
    "import numpy as np\n",
    "import json\n",
    "import csv"
   ]
  },
  {
   "cell_type": "markdown",
   "metadata": {},
   "source": [
    "#### Read all the file names"
   ]
  },
  {
   "cell_type": "code",
   "execution_count": 7,
   "metadata": {},
   "outputs": [],
   "source": [
    "filepath = '/Users/adityagupta/Documents/04 Projects/01 GRIDS - Gender Inclusion/01 Data/01 American Physical Society/aps-dataset-metadata-2018/'\n",
    "files = glob.glob(os.path.join(filepath, '*/*/*.json'))"
   ]
  },
  {
   "cell_type": "code",
   "execution_count": 14,
   "metadata": {},
   "outputs": [
    {
     "data": {
      "text/plain": [
       "636294"
      ]
     },
     "execution_count": 14,
     "metadata": {},
     "output_type": "execute_result"
    }
   ],
   "source": [
    "len(files)"
   ]
  },
  {
   "cell_type": "markdown",
   "metadata": {},
   "source": [
    "#### Read data from the files"
   ]
  },
  {
   "cell_type": "code",
   "execution_count": 15,
   "metadata": {},
   "outputs": [],
   "source": [
    "for idx, file in enumerate(files):\n",
    "    with open(file) as train_file:\n",
    "        \n",
    "        # load the json file\n",
    "        data = json.load(train_file)\n",
    "        \n",
    "        # common values to all subsequent rows\n",
    "        paper_id = data['id']\n",
    "        date = data['date']\n",
    "        \n",
    "        # if the data has authors data only then required\n",
    "        if 'authors' in data:\n",
    "            \n",
    "            # make new row for each author of that paper\n",
    "            for val in data['authors']:\n",
    "                \n",
    "                name = val['name'] if 'name' in val else np.nan\n",
    "                fname = val['firstname'] if 'firstname' in val else np.nan\n",
    "                lname = val['surname'] if 'surname' in val else np.nan\n",
    "                \n",
    "                # if each author has affili then make new row with the affil\n",
    "                if 'affiliationIds'in val:\n",
    "                    for aff in val['affiliationIds']:\n",
    "\n",
    "                        with open('05 Data Dumps/authors_write_each_line_v9.csv', mode='a') as data_writer_file:\n",
    "                            data_writer = csv.writer(data_writer_file)\n",
    "                            data_writer.writerow([paper_id, date, name, fname, lname, aff])\n",
    "                else:\n",
    "                    with open('05 Data Dumps/authors_write_each_line_v9.csv', mode='a') as data_writer_file:\n",
    "                            data_writer = csv.writer(data_writer_file)\n",
    "                            data_writer.writerow([paper_id, date, name, fname, lname, []])\n",
    "            "
   ]
  },
  {
   "cell_type": "markdown",
   "metadata": {},
   "source": [
    "#### Read the final data ouput"
   ]
  },
  {
   "cell_type": "code",
   "execution_count": 35,
   "metadata": {},
   "outputs": [],
   "source": [
    "col=[\"paper_id\", \"date\", \"name\",'fname', 'lanme', \"affiliationIds\"]\n",
    "df = pd.read_csv('05 Data Dumps/authors_write_each_line_v9.csv', names=col)"
   ]
  },
  {
   "cell_type": "code",
   "execution_count": 1,
   "metadata": {},
   "outputs": [
    {
     "ename": "NameError",
     "evalue": "name 'df' is not defined",
     "output_type": "error",
     "traceback": [
      "\u001b[0;31m---------------------------------------------------------------------------\u001b[0m",
      "\u001b[0;31mNameError\u001b[0m                                 Traceback (most recent call last)",
      "\u001b[0;32m<ipython-input-1-00cf07b74dcd>\u001b[0m in \u001b[0;36m<module>\u001b[0;34m\u001b[0m\n\u001b[0;32m----> 1\u001b[0;31m \u001b[0mdf\u001b[0m\u001b[0;34m\u001b[0m\u001b[0;34m\u001b[0m\u001b[0m\n\u001b[0m",
      "\u001b[0;31mNameError\u001b[0m: name 'df' is not defined"
     ]
    }
   ],
   "source": [
    "df"
   ]
  },
  {
   "cell_type": "markdown",
   "metadata": {},
   "source": [
    "##### QC"
   ]
  },
  {
   "cell_type": "code",
   "execution_count": 20,
   "metadata": {},
   "outputs": [
    {
     "data": {
      "text/plain": [
       "626327"
      ]
     },
     "execution_count": 20,
     "metadata": {},
     "output_type": "execute_result"
    }
   ],
   "source": [
    "# chk = len(set(df.paper_id))\n",
    "# chk"
   ]
  },
  {
   "cell_type": "code",
   "execution_count": 21,
   "metadata": {},
   "outputs": [],
   "source": [
    "# filepath2 = '/Users/adityagupta/Documents/04 Projects/01 GRIDS - Gender Inclusion/01 Data/01 American Physical Society/aps-dataset-metadata-2018/PRAPPLIED/9/'\n",
    "# files2 = glob.glob(os.path.join(filepath2, '*.json'))"
   ]
  },
  {
   "cell_type": "code",
   "execution_count": 24,
   "metadata": {},
   "outputs": [],
   "source": [
    "# df_full = pd.DataFrame()"
   ]
  },
  {
   "cell_type": "code",
   "execution_count": 33,
   "metadata": {},
   "outputs": [],
   "source": [
    "# for idx, file in enumerate(files2):\n",
    "#     with open(file) as train_file2:\n",
    "\n",
    "#         df = pd.read_json(file, lines=True)\n",
    "#         df_full = df_full.append(df, sort=False, ignore_index=True)\n",
    "\n",
    "# df_full"
   ]
  },
  {
   "cell_type": "markdown",
   "metadata": {},
   "source": [
    "##### -- Verified"
   ]
  }
 ],
 "metadata": {
  "kernelspec": {
   "display_name": "Python 3",
   "language": "python",
   "name": "python3"
  },
  "language_info": {
   "codemirror_mode": {
    "name": "ipython",
    "version": 3
   },
   "file_extension": ".py",
   "mimetype": "text/x-python",
   "name": "python",
   "nbconvert_exporter": "python",
   "pygments_lexer": "ipython3",
   "version": "3.7.4"
  }
 },
 "nbformat": 4,
 "nbformat_minor": 2
}
