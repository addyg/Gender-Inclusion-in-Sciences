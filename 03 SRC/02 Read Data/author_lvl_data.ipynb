{
 "cells": [
  {
   "cell_type": "code",
   "execution_count": 1,
   "metadata": {},
   "outputs": [],
   "source": [
    "import os\n",
    "import glob\n",
    "import pandas as pd\n",
    "import numpy as np\n",
    "import json\n",
    "import csv"
   ]
  },
  {
   "cell_type": "markdown",
   "metadata": {},
   "source": [
    "#### Read all the file names"
   ]
  },
  {
   "cell_type": "code",
   "execution_count": 7,
   "metadata": {},
   "outputs": [],
   "source": [
    "filepath = '/Users/adityagupta/Documents/04 Projects/01 GRIDS - Gender Inclusion/01 Data/01 American Physical Society/aps-dataset-metadata-2018/'\n",
    "files = glob.glob(os.path.join(filepath, '*/*/*.json'))"
   ]
  },
  {
   "cell_type": "code",
   "execution_count": 14,
   "metadata": {},
   "outputs": [
    {
     "data": {
      "text/plain": [
       "636294"
      ]
     },
     "execution_count": 14,
     "metadata": {},
     "output_type": "execute_result"
    }
   ],
   "source": [
    "len(files)"
   ]
  },
  {
   "cell_type": "markdown",
   "metadata": {},
   "source": [
    "#### Read data from the files"
   ]
  },
  {
   "cell_type": "code",
   "execution_count": 15,
   "metadata": {},
   "outputs": [],
   "source": [
    "for idx, file in enumerate(files):\n",
    "    with open(file) as train_file:\n",
    "        \n",
    "        # load the json file\n",
    "        data = json.load(train_file)\n",
    "        \n",
    "        # common values to all subsequent rows\n",
    "        paper_id = data['id']\n",
    "        date = data['date']\n",
    "        \n",
    "        # if the data has authors data only then required\n",
    "        if 'authors' in data:\n",
    "            \n",
    "            # make new row for each author of that paper\n",
    "            for val in data['authors']:\n",
    "                \n",
    "                name = val['name'] if 'name' in val else np.nan\n",
    "                fname = val['firstname'] if 'firstname' in val else np.nan\n",
    "                lname = val['surname'] if 'surname' in val else np.nan\n",
    "                \n",
    "                # if each author has affili then make new row with the affil\n",
    "                if 'affiliationIds'in val:\n",
    "                    for aff in val['affiliationIds']:\n",
    "\n",
    "                        with open('05 Data Dumps/authors_write_each_line_v9.csv', mode='a') as data_writer_file:\n",
    "                            data_writer = csv.writer(data_writer_file)\n",
    "                            data_writer.writerow([paper_id, date, name, fname, lname, aff])\n",
    "                else:\n",
    "                    with open('05 Data Dumps/authors_write_each_line_v9.csv', mode='a') as data_writer_file:\n",
    "                            data_writer = csv.writer(data_writer_file)\n",
    "                            data_writer.writerow([paper_id, date, name, fname, lname, []])\n",
    "            "
   ]
  },
  {
   "cell_type": "markdown",
   "metadata": {},
   "source": [
    "#### Read the final data ouput"
   ]
  },
  {
   "cell_type": "code",
   "execution_count": 35,
   "metadata": {},
   "outputs": [],
   "source": [
    "col=[\"paper_id\", \"date\", \"name\",'fname', 'lanme', \"affiliationIds\"]\n",
    "df = pd.read_csv('05 Data Dumps/authors_write_each_line_v9.csv', names=col)"
   ]
  },
  {
   "cell_type": "code",
   "execution_count": 36,
   "metadata": {},
   "outputs": [
    {
     "data": {
      "text/html": [
       "<div>\n",
       "<style scoped>\n",
       "    .dataframe tbody tr th:only-of-type {\n",
       "        vertical-align: middle;\n",
       "    }\n",
       "\n",
       "    .dataframe tbody tr th {\n",
       "        vertical-align: top;\n",
       "    }\n",
       "\n",
       "    .dataframe thead th {\n",
       "        text-align: right;\n",
       "    }\n",
       "</style>\n",
       "<table border=\"1\" class=\"dataframe\">\n",
       "  <thead>\n",
       "    <tr style=\"text-align: right;\">\n",
       "      <th></th>\n",
       "      <th>paper_id</th>\n",
       "      <th>date</th>\n",
       "      <th>name</th>\n",
       "      <th>fname</th>\n",
       "      <th>lanme</th>\n",
       "      <th>affiliationIds</th>\n",
       "    </tr>\n",
       "  </thead>\n",
       "  <tbody>\n",
       "    <tr>\n",
       "      <td>0</td>\n",
       "      <td>10.1103/PhysRevApplied.9.039901</td>\n",
       "      <td>2018-03-06</td>\n",
       "      <td>Tomoyuki Sasaki</td>\n",
       "      <td>Tomoyuki</td>\n",
       "      <td>Sasaki</td>\n",
       "      <td>[]</td>\n",
       "    </tr>\n",
       "    <tr>\n",
       "      <td>1</td>\n",
       "      <td>10.1103/PhysRevApplied.9.039901</td>\n",
       "      <td>2018-03-06</td>\n",
       "      <td>Yuichiro Ando</td>\n",
       "      <td>Yuichiro</td>\n",
       "      <td>Ando</td>\n",
       "      <td>[]</td>\n",
       "    </tr>\n",
       "    <tr>\n",
       "      <td>2</td>\n",
       "      <td>10.1103/PhysRevApplied.9.039901</td>\n",
       "      <td>2018-03-06</td>\n",
       "      <td>Makoto Kameno</td>\n",
       "      <td>Makoto</td>\n",
       "      <td>Kameno</td>\n",
       "      <td>[]</td>\n",
       "    </tr>\n",
       "    <tr>\n",
       "      <td>3</td>\n",
       "      <td>10.1103/PhysRevApplied.9.039901</td>\n",
       "      <td>2018-03-06</td>\n",
       "      <td>Takayuki Tahara</td>\n",
       "      <td>Takayuki</td>\n",
       "      <td>Tahara</td>\n",
       "      <td>[]</td>\n",
       "    </tr>\n",
       "    <tr>\n",
       "      <td>4</td>\n",
       "      <td>10.1103/PhysRevApplied.9.039901</td>\n",
       "      <td>2018-03-06</td>\n",
       "      <td>Hayato Koike</td>\n",
       "      <td>Hayato</td>\n",
       "      <td>Koike</td>\n",
       "      <td>[]</td>\n",
       "    </tr>\n",
       "    <tr>\n",
       "      <td>...</td>\n",
       "      <td>...</td>\n",
       "      <td>...</td>\n",
       "      <td>...</td>\n",
       "      <td>...</td>\n",
       "      <td>...</td>\n",
       "      <td>...</td>\n",
       "    </tr>\n",
       "    <tr>\n",
       "      <td>2503838</td>\n",
       "      <td>10.1103/PhysRevSTAB.14.014001</td>\n",
       "      <td>2011-01-21</td>\n",
       "      <td>Mikhail Zobov</td>\n",
       "      <td>Mikhail</td>\n",
       "      <td>Zobov</td>\n",
       "      <td>a2</td>\n",
       "    </tr>\n",
       "    <tr>\n",
       "      <td>2503839</td>\n",
       "      <td>10.1103/PhysRevSTAB.14.090401</td>\n",
       "      <td>2011-09-15</td>\n",
       "      <td>A. Lorusso</td>\n",
       "      <td>A.</td>\n",
       "      <td>Lorusso</td>\n",
       "      <td>a1</td>\n",
       "    </tr>\n",
       "    <tr>\n",
       "      <td>2503840</td>\n",
       "      <td>10.1103/PhysRevSTAB.14.090401</td>\n",
       "      <td>2011-09-15</td>\n",
       "      <td>F. Gontad</td>\n",
       "      <td>F.</td>\n",
       "      <td>Gontad</td>\n",
       "      <td>a1</td>\n",
       "    </tr>\n",
       "    <tr>\n",
       "      <td>2503841</td>\n",
       "      <td>10.1103/PhysRevSTAB.14.090401</td>\n",
       "      <td>2011-09-15</td>\n",
       "      <td>A. Perrone</td>\n",
       "      <td>A.</td>\n",
       "      <td>Perrone</td>\n",
       "      <td>a1</td>\n",
       "    </tr>\n",
       "    <tr>\n",
       "      <td>2503842</td>\n",
       "      <td>10.1103/PhysRevSTAB.14.090401</td>\n",
       "      <td>2011-09-15</td>\n",
       "      <td>N. Stankova</td>\n",
       "      <td>N.</td>\n",
       "      <td>Stankova</td>\n",
       "      <td>a2</td>\n",
       "    </tr>\n",
       "  </tbody>\n",
       "</table>\n",
       "<p>2503843 rows × 6 columns</p>\n",
       "</div>"
      ],
      "text/plain": [
       "                                paper_id        date             name  \\\n",
       "0        10.1103/PhysRevApplied.9.039901  2018-03-06  Tomoyuki Sasaki   \n",
       "1        10.1103/PhysRevApplied.9.039901  2018-03-06    Yuichiro Ando   \n",
       "2        10.1103/PhysRevApplied.9.039901  2018-03-06    Makoto Kameno   \n",
       "3        10.1103/PhysRevApplied.9.039901  2018-03-06  Takayuki Tahara   \n",
       "4        10.1103/PhysRevApplied.9.039901  2018-03-06     Hayato Koike   \n",
       "...                                  ...         ...              ...   \n",
       "2503838    10.1103/PhysRevSTAB.14.014001  2011-01-21    Mikhail Zobov   \n",
       "2503839    10.1103/PhysRevSTAB.14.090401  2011-09-15       A. Lorusso   \n",
       "2503840    10.1103/PhysRevSTAB.14.090401  2011-09-15        F. Gontad   \n",
       "2503841    10.1103/PhysRevSTAB.14.090401  2011-09-15       A. Perrone   \n",
       "2503842    10.1103/PhysRevSTAB.14.090401  2011-09-15      N. Stankova   \n",
       "\n",
       "            fname     lanme affiliationIds  \n",
       "0        Tomoyuki    Sasaki             []  \n",
       "1        Yuichiro      Ando             []  \n",
       "2          Makoto    Kameno             []  \n",
       "3        Takayuki    Tahara             []  \n",
       "4          Hayato     Koike             []  \n",
       "...           ...       ...            ...  \n",
       "2503838   Mikhail     Zobov             a2  \n",
       "2503839        A.   Lorusso             a1  \n",
       "2503840        F.    Gontad             a1  \n",
       "2503841        A.   Perrone             a1  \n",
       "2503842        N.  Stankova             a2  \n",
       "\n",
       "[2503843 rows x 6 columns]"
      ]
     },
     "execution_count": 36,
     "metadata": {},
     "output_type": "execute_result"
    }
   ],
   "source": [
    "df"
   ]
  },
  {
   "cell_type": "markdown",
   "metadata": {},
   "source": [
    "##### QC"
   ]
  },
  {
   "cell_type": "code",
   "execution_count": 20,
   "metadata": {},
   "outputs": [
    {
     "data": {
      "text/plain": [
       "626327"
      ]
     },
     "execution_count": 20,
     "metadata": {},
     "output_type": "execute_result"
    }
   ],
   "source": [
    "# chk = len(set(df.paper_id))\n",
    "# chk"
   ]
  },
  {
   "cell_type": "code",
   "execution_count": 21,
   "metadata": {},
   "outputs": [],
   "source": [
    "# filepath2 = '/Users/adityagupta/Documents/04 Projects/01 GRIDS - Gender Inclusion/01 Data/01 American Physical Society/aps-dataset-metadata-2018/PRAPPLIED/9/'\n",
    "# files2 = glob.glob(os.path.join(filepath2, '*.json'))"
   ]
  },
  {
   "cell_type": "code",
   "execution_count": 24,
   "metadata": {},
   "outputs": [],
   "source": [
    "# df_full = pd.DataFrame()"
   ]
  },
  {
   "cell_type": "code",
   "execution_count": 33,
   "metadata": {},
   "outputs": [],
   "source": [
    "# for idx, file in enumerate(files2):\n",
    "#     with open(file) as train_file2:\n",
    "\n",
    "#         df = pd.read_json(file, lines=True)\n",
    "#         df_full = df_full.append(df, sort=False, ignore_index=True)\n",
    "\n",
    "# df_full"
   ]
  },
  {
   "cell_type": "markdown",
   "metadata": {},
   "source": [
    "##### -- Verified"
   ]
  }
 ],
 "metadata": {
  "kernelspec": {
   "display_name": "Python 3",
   "language": "python",
   "name": "python3"
  },
  "language_info": {
   "codemirror_mode": {
    "name": "ipython",
    "version": 3
   },
   "file_extension": ".py",
   "mimetype": "text/x-python",
   "name": "python",
   "nbconvert_exporter": "python",
   "pygments_lexer": "ipython3",
   "version": "3.7.4"
  }
 },
 "nbformat": 4,
 "nbformat_minor": 2
}
