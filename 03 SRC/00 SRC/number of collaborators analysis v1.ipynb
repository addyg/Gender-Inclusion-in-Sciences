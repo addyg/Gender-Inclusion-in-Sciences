{
 "cells": [
  {
   "cell_type": "code",
   "execution_count": 2,
   "metadata": {},
   "outputs": [],
   "source": [
    "import sys\n",
    "import os\n",
    "import glob\n",
    "import json\n",
    "import pandas as pd\n",
    "import numpy as np\n",
    "import seaborn as sns\n",
    "import matplotlib.pyplot as plt\n",
    "import plotly.express as px\n",
    "import plotly.graph_objects as go\n",
    "import networkx as nx \n",
    "%matplotlib inline"
   ]
  },
  {
   "cell_type": "code",
   "execution_count": 3,
   "metadata": {},
   "outputs": [],
   "source": [
    "df_main = pd.read_csv('../../01 Data/03 Consolidated/authors_with_gender_v1.csv')"
   ]
  },
  {
   "cell_type": "code",
   "execution_count": 4,
   "metadata": {},
   "outputs": [
    {
     "data": {
      "text/html": [
       "<div>\n",
       "<style scoped>\n",
       "    .dataframe tbody tr th:only-of-type {\n",
       "        vertical-align: middle;\n",
       "    }\n",
       "\n",
       "    .dataframe tbody tr th {\n",
       "        vertical-align: top;\n",
       "    }\n",
       "\n",
       "    .dataframe thead th {\n",
       "        text-align: right;\n",
       "    }\n",
       "</style>\n",
       "<table border=\"1\" class=\"dataframe\">\n",
       "  <thead>\n",
       "    <tr style=\"text-align: right;\">\n",
       "      <th></th>\n",
       "      <th>paper_id</th>\n",
       "      <th>date</th>\n",
       "      <th>name</th>\n",
       "      <th>fname</th>\n",
       "      <th>lname</th>\n",
       "      <th>affiliationIds</th>\n",
       "      <th>norm_fname</th>\n",
       "      <th>gender</th>\n",
       "    </tr>\n",
       "  </thead>\n",
       "  <tbody>\n",
       "    <tr>\n",
       "      <td>0</td>\n",
       "      <td>10.1103/PhysRevApplied.9.039901</td>\n",
       "      <td>2018-03-06</td>\n",
       "      <td>Tomoyuki Sasaki</td>\n",
       "      <td>Tomoyuki</td>\n",
       "      <td>Sasaki</td>\n",
       "      <td>[]</td>\n",
       "      <td>tomoyuki</td>\n",
       "      <td>NaN</td>\n",
       "    </tr>\n",
       "    <tr>\n",
       "      <td>1</td>\n",
       "      <td>10.1103/PhysRevApplied.9.039901</td>\n",
       "      <td>2018-03-06</td>\n",
       "      <td>Yuichiro Ando</td>\n",
       "      <td>Yuichiro</td>\n",
       "      <td>Ando</td>\n",
       "      <td>[]</td>\n",
       "      <td>yuichiro</td>\n",
       "      <td>NaN</td>\n",
       "    </tr>\n",
       "    <tr>\n",
       "      <td>2</td>\n",
       "      <td>10.1103/PhysRevApplied.9.039901</td>\n",
       "      <td>2018-03-06</td>\n",
       "      <td>Makoto Kameno</td>\n",
       "      <td>Makoto</td>\n",
       "      <td>Kameno</td>\n",
       "      <td>[]</td>\n",
       "      <td>makoto</td>\n",
       "      <td>male</td>\n",
       "    </tr>\n",
       "    <tr>\n",
       "      <td>3</td>\n",
       "      <td>10.1103/PhysRevApplied.9.039901</td>\n",
       "      <td>2018-03-06</td>\n",
       "      <td>Takayuki Tahara</td>\n",
       "      <td>Takayuki</td>\n",
       "      <td>Tahara</td>\n",
       "      <td>[]</td>\n",
       "      <td>takayuki</td>\n",
       "      <td>male</td>\n",
       "    </tr>\n",
       "    <tr>\n",
       "      <td>4</td>\n",
       "      <td>10.1103/PhysRevApplied.9.039901</td>\n",
       "      <td>2018-03-06</td>\n",
       "      <td>Hayato Koike</td>\n",
       "      <td>Hayato</td>\n",
       "      <td>Koike</td>\n",
       "      <td>[]</td>\n",
       "      <td>hayato</td>\n",
       "      <td>NaN</td>\n",
       "    </tr>\n",
       "    <tr>\n",
       "      <td>...</td>\n",
       "      <td>...</td>\n",
       "      <td>...</td>\n",
       "      <td>...</td>\n",
       "      <td>...</td>\n",
       "      <td>...</td>\n",
       "      <td>...</td>\n",
       "      <td>...</td>\n",
       "      <td>...</td>\n",
       "    </tr>\n",
       "    <tr>\n",
       "      <td>2503838</td>\n",
       "      <td>10.1103/PhysRevSTAB.14.014001</td>\n",
       "      <td>2011-01-21</td>\n",
       "      <td>Mikhail Zobov</td>\n",
       "      <td>Mikhail</td>\n",
       "      <td>Zobov</td>\n",
       "      <td>a2</td>\n",
       "      <td>mikhail</td>\n",
       "      <td>male</td>\n",
       "    </tr>\n",
       "    <tr>\n",
       "      <td>2503839</td>\n",
       "      <td>10.1103/PhysRevSTAB.14.090401</td>\n",
       "      <td>2011-09-15</td>\n",
       "      <td>A. Lorusso</td>\n",
       "      <td>A.</td>\n",
       "      <td>Lorusso</td>\n",
       "      <td>a1</td>\n",
       "      <td>a</td>\n",
       "      <td>NaN</td>\n",
       "    </tr>\n",
       "    <tr>\n",
       "      <td>2503840</td>\n",
       "      <td>10.1103/PhysRevSTAB.14.090401</td>\n",
       "      <td>2011-09-15</td>\n",
       "      <td>F. Gontad</td>\n",
       "      <td>F.</td>\n",
       "      <td>Gontad</td>\n",
       "      <td>a1</td>\n",
       "      <td>f</td>\n",
       "      <td>NaN</td>\n",
       "    </tr>\n",
       "    <tr>\n",
       "      <td>2503841</td>\n",
       "      <td>10.1103/PhysRevSTAB.14.090401</td>\n",
       "      <td>2011-09-15</td>\n",
       "      <td>A. Perrone</td>\n",
       "      <td>A.</td>\n",
       "      <td>Perrone</td>\n",
       "      <td>a1</td>\n",
       "      <td>a</td>\n",
       "      <td>NaN</td>\n",
       "    </tr>\n",
       "    <tr>\n",
       "      <td>2503842</td>\n",
       "      <td>10.1103/PhysRevSTAB.14.090401</td>\n",
       "      <td>2011-09-15</td>\n",
       "      <td>N. Stankova</td>\n",
       "      <td>N.</td>\n",
       "      <td>Stankova</td>\n",
       "      <td>a2</td>\n",
       "      <td>n</td>\n",
       "      <td>NaN</td>\n",
       "    </tr>\n",
       "  </tbody>\n",
       "</table>\n",
       "<p>2503843 rows × 8 columns</p>\n",
       "</div>"
      ],
      "text/plain": [
       "                                paper_id        date             name  \\\n",
       "0        10.1103/PhysRevApplied.9.039901  2018-03-06  Tomoyuki Sasaki   \n",
       "1        10.1103/PhysRevApplied.9.039901  2018-03-06    Yuichiro Ando   \n",
       "2        10.1103/PhysRevApplied.9.039901  2018-03-06    Makoto Kameno   \n",
       "3        10.1103/PhysRevApplied.9.039901  2018-03-06  Takayuki Tahara   \n",
       "4        10.1103/PhysRevApplied.9.039901  2018-03-06     Hayato Koike   \n",
       "...                                  ...         ...              ...   \n",
       "2503838    10.1103/PhysRevSTAB.14.014001  2011-01-21    Mikhail Zobov   \n",
       "2503839    10.1103/PhysRevSTAB.14.090401  2011-09-15       A. Lorusso   \n",
       "2503840    10.1103/PhysRevSTAB.14.090401  2011-09-15        F. Gontad   \n",
       "2503841    10.1103/PhysRevSTAB.14.090401  2011-09-15       A. Perrone   \n",
       "2503842    10.1103/PhysRevSTAB.14.090401  2011-09-15      N. Stankova   \n",
       "\n",
       "            fname     lname affiliationIds norm_fname gender  \n",
       "0        Tomoyuki    Sasaki             []   tomoyuki    NaN  \n",
       "1        Yuichiro      Ando             []   yuichiro    NaN  \n",
       "2          Makoto    Kameno             []     makoto   male  \n",
       "3        Takayuki    Tahara             []   takayuki   male  \n",
       "4          Hayato     Koike             []     hayato    NaN  \n",
       "...           ...       ...            ...        ...    ...  \n",
       "2503838   Mikhail     Zobov             a2    mikhail   male  \n",
       "2503839        A.   Lorusso             a1          a    NaN  \n",
       "2503840        F.    Gontad             a1          f    NaN  \n",
       "2503841        A.   Perrone             a1          a    NaN  \n",
       "2503842        N.  Stankova             a2          n    NaN  \n",
       "\n",
       "[2503843 rows x 8 columns]"
      ]
     },
     "execution_count": 4,
     "metadata": {},
     "output_type": "execute_result"
    }
   ],
   "source": [
    "df_main"
   ]
  },
  {
   "cell_type": "code",
   "execution_count": 5,
   "metadata": {},
   "outputs": [
    {
     "data": {
      "text/plain": [
       "male      384809\n",
       "female     45281\n",
       "Name: gender, dtype: int64"
      ]
     },
     "execution_count": 5,
     "metadata": {},
     "output_type": "execute_result"
    }
   ],
   "source": [
    "df_main.gender.value_counts()"
   ]
  },
  {
   "cell_type": "code",
   "execution_count": null,
   "metadata": {},
   "outputs": [],
   "source": []
  },
  {
   "cell_type": "markdown",
   "metadata": {},
   "source": [
    "### Drop those Papers for which we dont have genders for all the authors\n",
    "Else, it will change our colloboration results\n",
    "\n",
    "Method:\n",
    "1. Make a column gend_count with 1/0 if gender for that author there\n",
    "2. Rollup the data at paper_id level\n",
    "3. Keep those papers for which number of authors = value in gen_count rolled up"
   ]
  },
  {
   "cell_type": "code",
   "execution_count": 6,
   "metadata": {},
   "outputs": [],
   "source": [
    "df_main['gen_count'] = df_main['gender'].apply(lambda x: 1 if x == 'male' or x == 'female' else 0)"
   ]
  },
  {
   "cell_type": "code",
   "execution_count": 7,
   "metadata": {},
   "outputs": [
    {
     "data": {
      "text/html": [
       "<div>\n",
       "<style scoped>\n",
       "    .dataframe tbody tr th:only-of-type {\n",
       "        vertical-align: middle;\n",
       "    }\n",
       "\n",
       "    .dataframe tbody tr th {\n",
       "        vertical-align: top;\n",
       "    }\n",
       "\n",
       "    .dataframe thead th {\n",
       "        text-align: right;\n",
       "    }\n",
       "</style>\n",
       "<table border=\"1\" class=\"dataframe\">\n",
       "  <thead>\n",
       "    <tr style=\"text-align: right;\">\n",
       "      <th></th>\n",
       "      <th>paper_id</th>\n",
       "      <th>date</th>\n",
       "      <th>name</th>\n",
       "      <th>fname</th>\n",
       "      <th>lname</th>\n",
       "      <th>affiliationIds</th>\n",
       "      <th>norm_fname</th>\n",
       "      <th>gender</th>\n",
       "      <th>gen_count</th>\n",
       "    </tr>\n",
       "  </thead>\n",
       "  <tbody>\n",
       "    <tr>\n",
       "      <td>2503838</td>\n",
       "      <td>10.1103/PhysRevSTAB.14.014001</td>\n",
       "      <td>2011-01-21</td>\n",
       "      <td>Mikhail Zobov</td>\n",
       "      <td>Mikhail</td>\n",
       "      <td>Zobov</td>\n",
       "      <td>a2</td>\n",
       "      <td>mikhail</td>\n",
       "      <td>male</td>\n",
       "      <td>1</td>\n",
       "    </tr>\n",
       "    <tr>\n",
       "      <td>2503839</td>\n",
       "      <td>10.1103/PhysRevSTAB.14.090401</td>\n",
       "      <td>2011-09-15</td>\n",
       "      <td>A. Lorusso</td>\n",
       "      <td>A.</td>\n",
       "      <td>Lorusso</td>\n",
       "      <td>a1</td>\n",
       "      <td>a</td>\n",
       "      <td>NaN</td>\n",
       "      <td>0</td>\n",
       "    </tr>\n",
       "    <tr>\n",
       "      <td>2503840</td>\n",
       "      <td>10.1103/PhysRevSTAB.14.090401</td>\n",
       "      <td>2011-09-15</td>\n",
       "      <td>F. Gontad</td>\n",
       "      <td>F.</td>\n",
       "      <td>Gontad</td>\n",
       "      <td>a1</td>\n",
       "      <td>f</td>\n",
       "      <td>NaN</td>\n",
       "      <td>0</td>\n",
       "    </tr>\n",
       "    <tr>\n",
       "      <td>2503841</td>\n",
       "      <td>10.1103/PhysRevSTAB.14.090401</td>\n",
       "      <td>2011-09-15</td>\n",
       "      <td>A. Perrone</td>\n",
       "      <td>A.</td>\n",
       "      <td>Perrone</td>\n",
       "      <td>a1</td>\n",
       "      <td>a</td>\n",
       "      <td>NaN</td>\n",
       "      <td>0</td>\n",
       "    </tr>\n",
       "    <tr>\n",
       "      <td>2503842</td>\n",
       "      <td>10.1103/PhysRevSTAB.14.090401</td>\n",
       "      <td>2011-09-15</td>\n",
       "      <td>N. Stankova</td>\n",
       "      <td>N.</td>\n",
       "      <td>Stankova</td>\n",
       "      <td>a2</td>\n",
       "      <td>n</td>\n",
       "      <td>NaN</td>\n",
       "      <td>0</td>\n",
       "    </tr>\n",
       "  </tbody>\n",
       "</table>\n",
       "</div>"
      ],
      "text/plain": [
       "                              paper_id        date           name    fname  \\\n",
       "2503838  10.1103/PhysRevSTAB.14.014001  2011-01-21  Mikhail Zobov  Mikhail   \n",
       "2503839  10.1103/PhysRevSTAB.14.090401  2011-09-15     A. Lorusso       A.   \n",
       "2503840  10.1103/PhysRevSTAB.14.090401  2011-09-15      F. Gontad       F.   \n",
       "2503841  10.1103/PhysRevSTAB.14.090401  2011-09-15     A. Perrone       A.   \n",
       "2503842  10.1103/PhysRevSTAB.14.090401  2011-09-15    N. Stankova       N.   \n",
       "\n",
       "            lname affiliationIds norm_fname gender  gen_count  \n",
       "2503838     Zobov             a2    mikhail   male          1  \n",
       "2503839   Lorusso             a1          a    NaN          0  \n",
       "2503840    Gontad             a1          f    NaN          0  \n",
       "2503841   Perrone             a1          a    NaN          0  \n",
       "2503842  Stankova             a2          n    NaN          0  "
      ]
     },
     "execution_count": 7,
     "metadata": {},
     "output_type": "execute_result"
    }
   ],
   "source": [
    "df_main.tail(5)"
   ]
  },
  {
   "cell_type": "code",
   "execution_count": 8,
   "metadata": {},
   "outputs": [],
   "source": [
    "df_gen = df_main.groupby(['paper_id']).agg({'name': 'count', 'gen_count': 'sum'}).reset_index()"
   ]
  },
  {
   "cell_type": "code",
   "execution_count": 9,
   "metadata": {},
   "outputs": [],
   "source": [
    "old_data = df_gen"
   ]
  },
  {
   "cell_type": "code",
   "execution_count": 10,
   "metadata": {},
   "outputs": [
    {
     "data": {
      "text/html": [
       "<div>\n",
       "<style scoped>\n",
       "    .dataframe tbody tr th:only-of-type {\n",
       "        vertical-align: middle;\n",
       "    }\n",
       "\n",
       "    .dataframe tbody tr th {\n",
       "        vertical-align: top;\n",
       "    }\n",
       "\n",
       "    .dataframe thead th {\n",
       "        text-align: right;\n",
       "    }\n",
       "</style>\n",
       "<table border=\"1\" class=\"dataframe\">\n",
       "  <thead>\n",
       "    <tr style=\"text-align: right;\">\n",
       "      <th></th>\n",
       "      <th>paper_id</th>\n",
       "      <th>name</th>\n",
       "      <th>gen_count</th>\n",
       "    </tr>\n",
       "  </thead>\n",
       "  <tbody>\n",
       "    <tr>\n",
       "      <td>0</td>\n",
       "      <td>10.1103/PhysRev.1.124</td>\n",
       "      <td>1</td>\n",
       "      <td>1</td>\n",
       "    </tr>\n",
       "    <tr>\n",
       "      <td>1</td>\n",
       "      <td>10.1103/PhysRev.1.141</td>\n",
       "      <td>1</td>\n",
       "      <td>0</td>\n",
       "    </tr>\n",
       "    <tr>\n",
       "      <td>2</td>\n",
       "      <td>10.1103/PhysRev.1.154</td>\n",
       "      <td>1</td>\n",
       "      <td>0</td>\n",
       "    </tr>\n",
       "    <tr>\n",
       "      <td>3</td>\n",
       "      <td>10.1103/PhysRev.1.16</td>\n",
       "      <td>1</td>\n",
       "      <td>0</td>\n",
       "    </tr>\n",
       "    <tr>\n",
       "      <td>4</td>\n",
       "      <td>10.1103/PhysRev.1.161</td>\n",
       "      <td>1</td>\n",
       "      <td>0</td>\n",
       "    </tr>\n",
       "    <tr>\n",
       "      <td>...</td>\n",
       "      <td>...</td>\n",
       "      <td>...</td>\n",
       "      <td>...</td>\n",
       "    </tr>\n",
       "    <tr>\n",
       "      <td>626322</td>\n",
       "      <td>10.1103/RevModPhys.90.045002</td>\n",
       "      <td>2</td>\n",
       "      <td>1</td>\n",
       "    </tr>\n",
       "    <tr>\n",
       "      <td>626323</td>\n",
       "      <td>10.1103/RevModPhys.90.045003</td>\n",
       "      <td>1</td>\n",
       "      <td>1</td>\n",
       "    </tr>\n",
       "    <tr>\n",
       "      <td>626324</td>\n",
       "      <td>10.1103/RevModPhys.90.045004</td>\n",
       "      <td>3</td>\n",
       "      <td>1</td>\n",
       "    </tr>\n",
       "    <tr>\n",
       "      <td>626325</td>\n",
       "      <td>10.1103/RevModPhys.90.045005</td>\n",
       "      <td>4</td>\n",
       "      <td>0</td>\n",
       "    </tr>\n",
       "    <tr>\n",
       "      <td>626326</td>\n",
       "      <td>10.1103/RevModPhys.90.045006</td>\n",
       "      <td>4</td>\n",
       "      <td>2</td>\n",
       "    </tr>\n",
       "  </tbody>\n",
       "</table>\n",
       "<p>626327 rows × 3 columns</p>\n",
       "</div>"
      ],
      "text/plain": [
       "                            paper_id  name  gen_count\n",
       "0              10.1103/PhysRev.1.124     1          1\n",
       "1              10.1103/PhysRev.1.141     1          0\n",
       "2              10.1103/PhysRev.1.154     1          0\n",
       "3               10.1103/PhysRev.1.16     1          0\n",
       "4              10.1103/PhysRev.1.161     1          0\n",
       "...                              ...   ...        ...\n",
       "626322  10.1103/RevModPhys.90.045002     2          1\n",
       "626323  10.1103/RevModPhys.90.045003     1          1\n",
       "626324  10.1103/RevModPhys.90.045004     3          1\n",
       "626325  10.1103/RevModPhys.90.045005     4          0\n",
       "626326  10.1103/RevModPhys.90.045006     4          2\n",
       "\n",
       "[626327 rows x 3 columns]"
      ]
     },
     "execution_count": 10,
     "metadata": {},
     "output_type": "execute_result"
    }
   ],
   "source": [
    "df_gen"
   ]
  },
  {
   "cell_type": "code",
   "execution_count": 11,
   "metadata": {},
   "outputs": [],
   "source": [
    "# Drop those papers for which number of authors != number of genders available\n",
    "df_gen = df_gen.drop(df_gen[df_gen.name != df_gen.gen_count].index)"
   ]
  },
  {
   "cell_type": "code",
   "execution_count": 12,
   "metadata": {},
   "outputs": [
    {
     "data": {
      "text/html": [
       "<div>\n",
       "<style scoped>\n",
       "    .dataframe tbody tr th:only-of-type {\n",
       "        vertical-align: middle;\n",
       "    }\n",
       "\n",
       "    .dataframe tbody tr th {\n",
       "        vertical-align: top;\n",
       "    }\n",
       "\n",
       "    .dataframe thead th {\n",
       "        text-align: right;\n",
       "    }\n",
       "</style>\n",
       "<table border=\"1\" class=\"dataframe\">\n",
       "  <thead>\n",
       "    <tr style=\"text-align: right;\">\n",
       "      <th></th>\n",
       "      <th>paper_id</th>\n",
       "      <th>name</th>\n",
       "      <th>gen_count</th>\n",
       "    </tr>\n",
       "  </thead>\n",
       "  <tbody>\n",
       "    <tr>\n",
       "      <td>0</td>\n",
       "      <td>10.1103/PhysRev.1.124</td>\n",
       "      <td>1</td>\n",
       "      <td>1</td>\n",
       "    </tr>\n",
       "    <tr>\n",
       "      <td>8</td>\n",
       "      <td>10.1103/PhysRev.1.211</td>\n",
       "      <td>1</td>\n",
       "      <td>1</td>\n",
       "    </tr>\n",
       "    <tr>\n",
       "      <td>28</td>\n",
       "      <td>10.1103/PhysRev.1.446</td>\n",
       "      <td>1</td>\n",
       "      <td>1</td>\n",
       "    </tr>\n",
       "    <tr>\n",
       "      <td>32</td>\n",
       "      <td>10.1103/PhysRev.1.56</td>\n",
       "      <td>1</td>\n",
       "      <td>1</td>\n",
       "    </tr>\n",
       "    <tr>\n",
       "      <td>35</td>\n",
       "      <td>10.1103/PhysRev.10.1</td>\n",
       "      <td>1</td>\n",
       "      <td>1</td>\n",
       "    </tr>\n",
       "    <tr>\n",
       "      <td>...</td>\n",
       "      <td>...</td>\n",
       "      <td>...</td>\n",
       "      <td>...</td>\n",
       "    </tr>\n",
       "    <tr>\n",
       "      <td>626309</td>\n",
       "      <td>10.1103/RevModPhys.90.035001</td>\n",
       "      <td>2</td>\n",
       "      <td>2</td>\n",
       "    </tr>\n",
       "    <tr>\n",
       "      <td>626315</td>\n",
       "      <td>10.1103/RevModPhys.90.035007</td>\n",
       "      <td>1</td>\n",
       "      <td>1</td>\n",
       "    </tr>\n",
       "    <tr>\n",
       "      <td>626316</td>\n",
       "      <td>10.1103/RevModPhys.90.040501</td>\n",
       "      <td>1</td>\n",
       "      <td>1</td>\n",
       "    </tr>\n",
       "    <tr>\n",
       "      <td>626321</td>\n",
       "      <td>10.1103/RevModPhys.90.045001</td>\n",
       "      <td>2</td>\n",
       "      <td>2</td>\n",
       "    </tr>\n",
       "    <tr>\n",
       "      <td>626323</td>\n",
       "      <td>10.1103/RevModPhys.90.045003</td>\n",
       "      <td>1</td>\n",
       "      <td>1</td>\n",
       "    </tr>\n",
       "  </tbody>\n",
       "</table>\n",
       "<p>55028 rows × 3 columns</p>\n",
       "</div>"
      ],
      "text/plain": [
       "                            paper_id  name  gen_count\n",
       "0              10.1103/PhysRev.1.124     1          1\n",
       "8              10.1103/PhysRev.1.211     1          1\n",
       "28             10.1103/PhysRev.1.446     1          1\n",
       "32              10.1103/PhysRev.1.56     1          1\n",
       "35              10.1103/PhysRev.10.1     1          1\n",
       "...                              ...   ...        ...\n",
       "626309  10.1103/RevModPhys.90.035001     2          2\n",
       "626315  10.1103/RevModPhys.90.035007     1          1\n",
       "626316  10.1103/RevModPhys.90.040501     1          1\n",
       "626321  10.1103/RevModPhys.90.045001     2          2\n",
       "626323  10.1103/RevModPhys.90.045003     1          1\n",
       "\n",
       "[55028 rows x 3 columns]"
      ]
     },
     "execution_count": 12,
     "metadata": {},
     "output_type": "execute_result"
    }
   ],
   "source": [
    "df_gen"
   ]
  },
  {
   "cell_type": "code",
   "execution_count": 13,
   "metadata": {},
   "outputs": [],
   "source": [
    "# Make a list of paper ids which satisfy condition to filter main data\n",
    "uniq_id_list = list(df_gen.paper_id)"
   ]
  },
  {
   "cell_type": "code",
   "execution_count": 14,
   "metadata": {},
   "outputs": [],
   "source": [
    "# uniq_id_list[:5]"
   ]
  },
  {
   "cell_type": "code",
   "execution_count": 15,
   "metadata": {},
   "outputs": [],
   "source": [
    "# Fileter out main data for those papers for which we gender info for all the authors\n",
    "df_gender = df_main[df_main['paper_id'].isin(uniq_id_list)]"
   ]
  },
  {
   "cell_type": "code",
   "execution_count": 16,
   "metadata": {},
   "outputs": [
    {
     "data": {
      "text/html": [
       "<div>\n",
       "<style scoped>\n",
       "    .dataframe tbody tr th:only-of-type {\n",
       "        vertical-align: middle;\n",
       "    }\n",
       "\n",
       "    .dataframe tbody tr th {\n",
       "        vertical-align: top;\n",
       "    }\n",
       "\n",
       "    .dataframe thead th {\n",
       "        text-align: right;\n",
       "    }\n",
       "</style>\n",
       "<table border=\"1\" class=\"dataframe\">\n",
       "  <thead>\n",
       "    <tr style=\"text-align: right;\">\n",
       "      <th></th>\n",
       "      <th>paper_id</th>\n",
       "      <th>date</th>\n",
       "      <th>name</th>\n",
       "      <th>fname</th>\n",
       "      <th>lname</th>\n",
       "      <th>affiliationIds</th>\n",
       "      <th>norm_fname</th>\n",
       "      <th>gender</th>\n",
       "      <th>gen_count</th>\n",
       "    </tr>\n",
       "  </thead>\n",
       "  <tbody>\n",
       "    <tr>\n",
       "      <td>69</td>\n",
       "      <td>10.1103/PhysRevApplied.9.064014</td>\n",
       "      <td>2018-06-12</td>\n",
       "      <td>Roman Verba</td>\n",
       "      <td>Roman</td>\n",
       "      <td>Verba</td>\n",
       "      <td>a1</td>\n",
       "      <td>roman</td>\n",
       "      <td>male</td>\n",
       "      <td>1</td>\n",
       "    </tr>\n",
       "    <tr>\n",
       "      <td>70</td>\n",
       "      <td>10.1103/PhysRevApplied.9.064014</td>\n",
       "      <td>2018-06-12</td>\n",
       "      <td>Ivan Lisenkov</td>\n",
       "      <td>Ivan</td>\n",
       "      <td>Lisenkov</td>\n",
       "      <td>a2</td>\n",
       "      <td>ivan</td>\n",
       "      <td>male</td>\n",
       "      <td>1</td>\n",
       "    </tr>\n",
       "    <tr>\n",
       "      <td>71</td>\n",
       "      <td>10.1103/PhysRevApplied.9.064014</td>\n",
       "      <td>2018-06-12</td>\n",
       "      <td>Ivan Lisenkov</td>\n",
       "      <td>Ivan</td>\n",
       "      <td>Lisenkov</td>\n",
       "      <td>a3</td>\n",
       "      <td>ivan</td>\n",
       "      <td>male</td>\n",
       "      <td>1</td>\n",
       "    </tr>\n",
       "    <tr>\n",
       "      <td>72</td>\n",
       "      <td>10.1103/PhysRevApplied.9.064014</td>\n",
       "      <td>2018-06-12</td>\n",
       "      <td>Ilya Krivorotov</td>\n",
       "      <td>Ilya</td>\n",
       "      <td>Krivorotov</td>\n",
       "      <td>a4</td>\n",
       "      <td>ilya</td>\n",
       "      <td>male</td>\n",
       "      <td>1</td>\n",
       "    </tr>\n",
       "    <tr>\n",
       "      <td>73</td>\n",
       "      <td>10.1103/PhysRevApplied.9.064014</td>\n",
       "      <td>2018-06-12</td>\n",
       "      <td>Vasil Tiberkevich</td>\n",
       "      <td>Vasil</td>\n",
       "      <td>Tiberkevich</td>\n",
       "      <td>a5</td>\n",
       "      <td>vasil</td>\n",
       "      <td>male</td>\n",
       "      <td>1</td>\n",
       "    </tr>\n",
       "    <tr>\n",
       "      <td>...</td>\n",
       "      <td>...</td>\n",
       "      <td>...</td>\n",
       "      <td>...</td>\n",
       "      <td>...</td>\n",
       "      <td>...</td>\n",
       "      <td>...</td>\n",
       "      <td>...</td>\n",
       "      <td>...</td>\n",
       "      <td>...</td>\n",
       "    </tr>\n",
       "    <tr>\n",
       "      <td>2503634</td>\n",
       "      <td>10.1103/PhysRevSTAB.14.022001</td>\n",
       "      <td>2011-02-07</td>\n",
       "      <td>Roberto Corsini</td>\n",
       "      <td>Roberto</td>\n",
       "      <td>Corsini</td>\n",
       "      <td>a2</td>\n",
       "      <td>roberto</td>\n",
       "      <td>male</td>\n",
       "      <td>1</td>\n",
       "    </tr>\n",
       "    <tr>\n",
       "      <td>2503835</td>\n",
       "      <td>10.1103/PhysRevSTAB.14.014001</td>\n",
       "      <td>2011-01-21</td>\n",
       "      <td>Dmitry Shatilov</td>\n",
       "      <td>Dmitry</td>\n",
       "      <td>Shatilov</td>\n",
       "      <td>a1</td>\n",
       "      <td>dmitry</td>\n",
       "      <td>male</td>\n",
       "      <td>1</td>\n",
       "    </tr>\n",
       "    <tr>\n",
       "      <td>2503836</td>\n",
       "      <td>10.1103/PhysRevSTAB.14.014001</td>\n",
       "      <td>2011-01-21</td>\n",
       "      <td>Eugene Levichev</td>\n",
       "      <td>Eugene</td>\n",
       "      <td>Levichev</td>\n",
       "      <td>a1</td>\n",
       "      <td>eugene</td>\n",
       "      <td>male</td>\n",
       "      <td>1</td>\n",
       "    </tr>\n",
       "    <tr>\n",
       "      <td>2503837</td>\n",
       "      <td>10.1103/PhysRevSTAB.14.014001</td>\n",
       "      <td>2011-01-21</td>\n",
       "      <td>Evgeny Simonov</td>\n",
       "      <td>Evgeny</td>\n",
       "      <td>Simonov</td>\n",
       "      <td>a1</td>\n",
       "      <td>evgeny</td>\n",
       "      <td>male</td>\n",
       "      <td>1</td>\n",
       "    </tr>\n",
       "    <tr>\n",
       "      <td>2503838</td>\n",
       "      <td>10.1103/PhysRevSTAB.14.014001</td>\n",
       "      <td>2011-01-21</td>\n",
       "      <td>Mikhail Zobov</td>\n",
       "      <td>Mikhail</td>\n",
       "      <td>Zobov</td>\n",
       "      <td>a2</td>\n",
       "      <td>mikhail</td>\n",
       "      <td>male</td>\n",
       "      <td>1</td>\n",
       "    </tr>\n",
       "  </tbody>\n",
       "</table>\n",
       "<p>124817 rows × 9 columns</p>\n",
       "</div>"
      ],
      "text/plain": [
       "                                paper_id        date               name  \\\n",
       "69       10.1103/PhysRevApplied.9.064014  2018-06-12        Roman Verba   \n",
       "70       10.1103/PhysRevApplied.9.064014  2018-06-12      Ivan Lisenkov   \n",
       "71       10.1103/PhysRevApplied.9.064014  2018-06-12      Ivan Lisenkov   \n",
       "72       10.1103/PhysRevApplied.9.064014  2018-06-12    Ilya Krivorotov   \n",
       "73       10.1103/PhysRevApplied.9.064014  2018-06-12  Vasil Tiberkevich   \n",
       "...                                  ...         ...                ...   \n",
       "2503634    10.1103/PhysRevSTAB.14.022001  2011-02-07    Roberto Corsini   \n",
       "2503835    10.1103/PhysRevSTAB.14.014001  2011-01-21    Dmitry Shatilov   \n",
       "2503836    10.1103/PhysRevSTAB.14.014001  2011-01-21    Eugene Levichev   \n",
       "2503837    10.1103/PhysRevSTAB.14.014001  2011-01-21     Evgeny Simonov   \n",
       "2503838    10.1103/PhysRevSTAB.14.014001  2011-01-21      Mikhail Zobov   \n",
       "\n",
       "           fname        lname affiliationIds norm_fname gender  gen_count  \n",
       "69         Roman        Verba             a1      roman   male          1  \n",
       "70          Ivan     Lisenkov             a2       ivan   male          1  \n",
       "71          Ivan     Lisenkov             a3       ivan   male          1  \n",
       "72          Ilya   Krivorotov             a4       ilya   male          1  \n",
       "73         Vasil  Tiberkevich             a5      vasil   male          1  \n",
       "...          ...          ...            ...        ...    ...        ...  \n",
       "2503634  Roberto      Corsini             a2    roberto   male          1  \n",
       "2503835   Dmitry     Shatilov             a1     dmitry   male          1  \n",
       "2503836   Eugene     Levichev             a1     eugene   male          1  \n",
       "2503837   Evgeny      Simonov             a1     evgeny   male          1  \n",
       "2503838  Mikhail        Zobov             a2    mikhail   male          1  \n",
       "\n",
       "[124817 rows x 9 columns]"
      ]
     },
     "execution_count": 16,
     "metadata": {},
     "output_type": "execute_result"
    }
   ],
   "source": [
    "df_gender"
   ]
  },
  {
   "cell_type": "code",
   "execution_count": 17,
   "metadata": {},
   "outputs": [
    {
     "data": {
      "text/plain": [
       "True"
      ]
     },
     "execution_count": 17,
     "metadata": {},
     "output_type": "execute_result"
    }
   ],
   "source": [
    "# QC: No nan values present in gender\n",
    "len(df_gender.gender) == len(df_gender[df_gender.gender == 'male']) + len(df_gender[df_gender.gender == 'female'])"
   ]
  },
  {
   "cell_type": "code",
   "execution_count": 18,
   "metadata": {},
   "outputs": [
    {
     "data": {
      "text/plain": [
       "124817"
      ]
     },
     "execution_count": 18,
     "metadata": {},
     "output_type": "execute_result"
    }
   ],
   "source": [
    "len(df_gender.gender)"
   ]
  },
  {
   "cell_type": "code",
   "execution_count": 19,
   "metadata": {},
   "outputs": [
    {
     "data": {
      "text/plain": [
       "male      114463\n",
       "female     10354\n",
       "Name: gender, dtype: int64"
      ]
     },
     "execution_count": 19,
     "metadata": {},
     "output_type": "execute_result"
    }
   ],
   "source": [
    "df_gender.gender.value_counts()\n",
    "\n",
    "# Earlier\n",
    "# male      384,809\n",
    "# female     45,281"
   ]
  },
  {
   "cell_type": "code",
   "execution_count": 20,
   "metadata": {},
   "outputs": [
    {
     "name": "stdout",
     "output_type": "stream",
     "text": [
      "% of data kept is: 8.8%\n"
     ]
    }
   ],
   "source": [
    "print('% of data kept is: {0:0.1%}'.format(len(set(df_gender.paper_id))/len(set(old_data.paper_id))))"
   ]
  },
  {
   "cell_type": "markdown",
   "metadata": {},
   "source": [
    "### Drop duplicacy at affiliationid level"
   ]
  },
  {
   "cell_type": "code",
   "execution_count": 21,
   "metadata": {},
   "outputs": [
    {
     "data": {
      "text/html": [
       "<div>\n",
       "<style scoped>\n",
       "    .dataframe tbody tr th:only-of-type {\n",
       "        vertical-align: middle;\n",
       "    }\n",
       "\n",
       "    .dataframe tbody tr th {\n",
       "        vertical-align: top;\n",
       "    }\n",
       "\n",
       "    .dataframe thead th {\n",
       "        text-align: right;\n",
       "    }\n",
       "</style>\n",
       "<table border=\"1\" class=\"dataframe\">\n",
       "  <thead>\n",
       "    <tr style=\"text-align: right;\">\n",
       "      <th></th>\n",
       "      <th>paper_id</th>\n",
       "      <th>date</th>\n",
       "      <th>name</th>\n",
       "      <th>fname</th>\n",
       "      <th>lname</th>\n",
       "      <th>affiliationIds</th>\n",
       "      <th>norm_fname</th>\n",
       "      <th>gender</th>\n",
       "      <th>gen_count</th>\n",
       "    </tr>\n",
       "  </thead>\n",
       "  <tbody>\n",
       "    <tr>\n",
       "      <td>69</td>\n",
       "      <td>10.1103/PhysRevApplied.9.064014</td>\n",
       "      <td>2018-06-12</td>\n",
       "      <td>Roman Verba</td>\n",
       "      <td>Roman</td>\n",
       "      <td>Verba</td>\n",
       "      <td>a1</td>\n",
       "      <td>roman</td>\n",
       "      <td>male</td>\n",
       "      <td>1</td>\n",
       "    </tr>\n",
       "    <tr>\n",
       "      <td>70</td>\n",
       "      <td>10.1103/PhysRevApplied.9.064014</td>\n",
       "      <td>2018-06-12</td>\n",
       "      <td>Ivan Lisenkov</td>\n",
       "      <td>Ivan</td>\n",
       "      <td>Lisenkov</td>\n",
       "      <td>a2</td>\n",
       "      <td>ivan</td>\n",
       "      <td>male</td>\n",
       "      <td>1</td>\n",
       "    </tr>\n",
       "    <tr>\n",
       "      <td>71</td>\n",
       "      <td>10.1103/PhysRevApplied.9.064014</td>\n",
       "      <td>2018-06-12</td>\n",
       "      <td>Ivan Lisenkov</td>\n",
       "      <td>Ivan</td>\n",
       "      <td>Lisenkov</td>\n",
       "      <td>a3</td>\n",
       "      <td>ivan</td>\n",
       "      <td>male</td>\n",
       "      <td>1</td>\n",
       "    </tr>\n",
       "    <tr>\n",
       "      <td>72</td>\n",
       "      <td>10.1103/PhysRevApplied.9.064014</td>\n",
       "      <td>2018-06-12</td>\n",
       "      <td>Ilya Krivorotov</td>\n",
       "      <td>Ilya</td>\n",
       "      <td>Krivorotov</td>\n",
       "      <td>a4</td>\n",
       "      <td>ilya</td>\n",
       "      <td>male</td>\n",
       "      <td>1</td>\n",
       "    </tr>\n",
       "    <tr>\n",
       "      <td>73</td>\n",
       "      <td>10.1103/PhysRevApplied.9.064014</td>\n",
       "      <td>2018-06-12</td>\n",
       "      <td>Vasil Tiberkevich</td>\n",
       "      <td>Vasil</td>\n",
       "      <td>Tiberkevich</td>\n",
       "      <td>a5</td>\n",
       "      <td>vasil</td>\n",
       "      <td>male</td>\n",
       "      <td>1</td>\n",
       "    </tr>\n",
       "    <tr>\n",
       "      <td>74</td>\n",
       "      <td>10.1103/PhysRevApplied.9.064014</td>\n",
       "      <td>2018-06-12</td>\n",
       "      <td>Andrei Slavin</td>\n",
       "      <td>Andrei</td>\n",
       "      <td>Slavin</td>\n",
       "      <td>a5</td>\n",
       "      <td>andrei</td>\n",
       "      <td>male</td>\n",
       "      <td>1</td>\n",
       "    </tr>\n",
       "  </tbody>\n",
       "</table>\n",
       "</div>"
      ],
      "text/plain": [
       "                           paper_id        date               name   fname  \\\n",
       "69  10.1103/PhysRevApplied.9.064014  2018-06-12        Roman Verba   Roman   \n",
       "70  10.1103/PhysRevApplied.9.064014  2018-06-12      Ivan Lisenkov    Ivan   \n",
       "71  10.1103/PhysRevApplied.9.064014  2018-06-12      Ivan Lisenkov    Ivan   \n",
       "72  10.1103/PhysRevApplied.9.064014  2018-06-12    Ilya Krivorotov    Ilya   \n",
       "73  10.1103/PhysRevApplied.9.064014  2018-06-12  Vasil Tiberkevich   Vasil   \n",
       "74  10.1103/PhysRevApplied.9.064014  2018-06-12      Andrei Slavin  Andrei   \n",
       "\n",
       "          lname affiliationIds norm_fname gender  gen_count  \n",
       "69        Verba             a1      roman   male          1  \n",
       "70     Lisenkov             a2       ivan   male          1  \n",
       "71     Lisenkov             a3       ivan   male          1  \n",
       "72   Krivorotov             a4       ilya   male          1  \n",
       "73  Tiberkevich             a5      vasil   male          1  \n",
       "74       Slavin             a5     andrei   male          1  "
      ]
     },
     "execution_count": 21,
     "metadata": {},
     "output_type": "execute_result"
    }
   ],
   "source": [
    "# Examle of duplicacy:\n",
    "df_gender[df_gender.paper_id == '10.1103/PhysRevApplied.9.064014']"
   ]
  },
  {
   "cell_type": "markdown",
   "metadata": {},
   "source": [
    "###### for the same paper_id an author is counted the number of times their afiliation appears"
   ]
  },
  {
   "cell_type": "code",
   "execution_count": 22,
   "metadata": {},
   "outputs": [],
   "source": [
    "df = df_gender\n",
    "df = df.drop_duplicates(['paper_id','name','gender'], keep='first')"
   ]
  },
  {
   "cell_type": "code",
   "execution_count": 23,
   "metadata": {},
   "outputs": [],
   "source": [
    "# df"
   ]
  },
  {
   "cell_type": "code",
   "execution_count": 24,
   "metadata": {},
   "outputs": [
    {
     "data": {
      "text/plain": [
       "male      101645\n",
       "female      9048\n",
       "Name: gender, dtype: int64"
      ]
     },
     "execution_count": 24,
     "metadata": {},
     "output_type": "execute_result"
    }
   ],
   "source": [
    "# QC\n",
    "df.gender.value_counts()\n",
    "# Earlier\n",
    "# male      114,463\n",
    "# female     10,354"
   ]
  },
  {
   "cell_type": "code",
   "execution_count": 25,
   "metadata": {},
   "outputs": [
    {
     "data": {
      "text/html": [
       "<div>\n",
       "<style scoped>\n",
       "    .dataframe tbody tr th:only-of-type {\n",
       "        vertical-align: middle;\n",
       "    }\n",
       "\n",
       "    .dataframe tbody tr th {\n",
       "        vertical-align: top;\n",
       "    }\n",
       "\n",
       "    .dataframe thead th {\n",
       "        text-align: right;\n",
       "    }\n",
       "</style>\n",
       "<table border=\"1\" class=\"dataframe\">\n",
       "  <thead>\n",
       "    <tr style=\"text-align: right;\">\n",
       "      <th></th>\n",
       "      <th>paper_id</th>\n",
       "      <th>date</th>\n",
       "      <th>name</th>\n",
       "      <th>fname</th>\n",
       "      <th>lname</th>\n",
       "      <th>affiliationIds</th>\n",
       "      <th>norm_fname</th>\n",
       "      <th>gender</th>\n",
       "      <th>gen_count</th>\n",
       "    </tr>\n",
       "  </thead>\n",
       "  <tbody>\n",
       "    <tr>\n",
       "      <td>69</td>\n",
       "      <td>10.1103/PhysRevApplied.9.064014</td>\n",
       "      <td>2018-06-12</td>\n",
       "      <td>Roman Verba</td>\n",
       "      <td>Roman</td>\n",
       "      <td>Verba</td>\n",
       "      <td>a1</td>\n",
       "      <td>roman</td>\n",
       "      <td>male</td>\n",
       "      <td>1</td>\n",
       "    </tr>\n",
       "    <tr>\n",
       "      <td>70</td>\n",
       "      <td>10.1103/PhysRevApplied.9.064014</td>\n",
       "      <td>2018-06-12</td>\n",
       "      <td>Ivan Lisenkov</td>\n",
       "      <td>Ivan</td>\n",
       "      <td>Lisenkov</td>\n",
       "      <td>a2</td>\n",
       "      <td>ivan</td>\n",
       "      <td>male</td>\n",
       "      <td>1</td>\n",
       "    </tr>\n",
       "    <tr>\n",
       "      <td>72</td>\n",
       "      <td>10.1103/PhysRevApplied.9.064014</td>\n",
       "      <td>2018-06-12</td>\n",
       "      <td>Ilya Krivorotov</td>\n",
       "      <td>Ilya</td>\n",
       "      <td>Krivorotov</td>\n",
       "      <td>a4</td>\n",
       "      <td>ilya</td>\n",
       "      <td>male</td>\n",
       "      <td>1</td>\n",
       "    </tr>\n",
       "    <tr>\n",
       "      <td>73</td>\n",
       "      <td>10.1103/PhysRevApplied.9.064014</td>\n",
       "      <td>2018-06-12</td>\n",
       "      <td>Vasil Tiberkevich</td>\n",
       "      <td>Vasil</td>\n",
       "      <td>Tiberkevich</td>\n",
       "      <td>a5</td>\n",
       "      <td>vasil</td>\n",
       "      <td>male</td>\n",
       "      <td>1</td>\n",
       "    </tr>\n",
       "    <tr>\n",
       "      <td>74</td>\n",
       "      <td>10.1103/PhysRevApplied.9.064014</td>\n",
       "      <td>2018-06-12</td>\n",
       "      <td>Andrei Slavin</td>\n",
       "      <td>Andrei</td>\n",
       "      <td>Slavin</td>\n",
       "      <td>a5</td>\n",
       "      <td>andrei</td>\n",
       "      <td>male</td>\n",
       "      <td>1</td>\n",
       "    </tr>\n",
       "  </tbody>\n",
       "</table>\n",
       "</div>"
      ],
      "text/plain": [
       "                           paper_id        date               name   fname  \\\n",
       "69  10.1103/PhysRevApplied.9.064014  2018-06-12        Roman Verba   Roman   \n",
       "70  10.1103/PhysRevApplied.9.064014  2018-06-12      Ivan Lisenkov    Ivan   \n",
       "72  10.1103/PhysRevApplied.9.064014  2018-06-12    Ilya Krivorotov    Ilya   \n",
       "73  10.1103/PhysRevApplied.9.064014  2018-06-12  Vasil Tiberkevich   Vasil   \n",
       "74  10.1103/PhysRevApplied.9.064014  2018-06-12      Andrei Slavin  Andrei   \n",
       "\n",
       "          lname affiliationIds norm_fname gender  gen_count  \n",
       "69        Verba             a1      roman   male          1  \n",
       "70     Lisenkov             a2       ivan   male          1  \n",
       "72   Krivorotov             a4       ilya   male          1  \n",
       "73  Tiberkevich             a5      vasil   male          1  \n",
       "74       Slavin             a5     andrei   male          1  "
      ]
     },
     "execution_count": 25,
     "metadata": {},
     "output_type": "execute_result"
    }
   ],
   "source": [
    "# QC Duplicacy:\n",
    "df[df.paper_id == '10.1103/PhysRevApplied.9.064014']"
   ]
  },
  {
   "cell_type": "code",
   "execution_count": null,
   "metadata": {},
   "outputs": [],
   "source": []
  },
  {
   "cell_type": "code",
   "execution_count": 26,
   "metadata": {},
   "outputs": [],
   "source": [
    "# df.to_csv('../../01 Data/03 Consolidated/doi_uniq_for_gender_and_affil_v1.csv', index=False)"
   ]
  },
  {
   "cell_type": "markdown",
   "metadata": {},
   "source": [
    "## Collab Analysis\n",
    "1. Add columns\n",
    "2. Group by at reqd lvl\n",
    "3. Avg collab with female authors\n",
    "4. Avg collab with male authors\n",
    "5. Avg collab when ONLY female authors\n",
    "6. Avg collab when ONLY male authors"
   ]
  },
  {
   "cell_type": "code",
   "execution_count": 27,
   "metadata": {},
   "outputs": [
    {
     "name": "stderr",
     "output_type": "stream",
     "text": [
      "/Users/adityagupta/opt/anaconda3/lib/python3.7/site-packages/ipykernel_launcher.py:1: SettingWithCopyWarning:\n",
      "\n",
      "\n",
      "A value is trying to be set on a copy of a slice from a DataFrame.\n",
      "Try using .loc[row_indexer,col_indexer] = value instead\n",
      "\n",
      "See the caveats in the documentation: http://pandas.pydata.org/pandas-docs/stable/user_guide/indexing.html#returning-a-view-versus-a-copy\n",
      "\n",
      "/Users/adityagupta/opt/anaconda3/lib/python3.7/site-packages/ipykernel_launcher.py:2: SettingWithCopyWarning:\n",
      "\n",
      "\n",
      "A value is trying to be set on a copy of a slice from a DataFrame.\n",
      "Try using .loc[row_indexer,col_indexer] = value instead\n",
      "\n",
      "See the caveats in the documentation: http://pandas.pydata.org/pandas-docs/stable/user_guide/indexing.html#returning-a-view-versus-a-copy\n",
      "\n"
     ]
    }
   ],
   "source": [
    "df['m_colab'] = df['gender'].apply(lambda x: 1 if x == 'male' else 0)\n",
    "df['f_colab'] = df['gender'].apply(lambda x: 1 if x == 'female' else 0)"
   ]
  },
  {
   "cell_type": "code",
   "execution_count": 28,
   "metadata": {},
   "outputs": [
    {
     "data": {
      "text/html": [
       "<div>\n",
       "<style scoped>\n",
       "    .dataframe tbody tr th:only-of-type {\n",
       "        vertical-align: middle;\n",
       "    }\n",
       "\n",
       "    .dataframe tbody tr th {\n",
       "        vertical-align: top;\n",
       "    }\n",
       "\n",
       "    .dataframe thead th {\n",
       "        text-align: right;\n",
       "    }\n",
       "</style>\n",
       "<table border=\"1\" class=\"dataframe\">\n",
       "  <thead>\n",
       "    <tr style=\"text-align: right;\">\n",
       "      <th></th>\n",
       "      <th>paper_id</th>\n",
       "      <th>date</th>\n",
       "      <th>name</th>\n",
       "      <th>fname</th>\n",
       "      <th>lname</th>\n",
       "      <th>affiliationIds</th>\n",
       "      <th>norm_fname</th>\n",
       "      <th>gender</th>\n",
       "      <th>gen_count</th>\n",
       "      <th>m_colab</th>\n",
       "      <th>f_colab</th>\n",
       "    </tr>\n",
       "  </thead>\n",
       "  <tbody>\n",
       "    <tr>\n",
       "      <td>2503634</td>\n",
       "      <td>10.1103/PhysRevSTAB.14.022001</td>\n",
       "      <td>2011-02-07</td>\n",
       "      <td>Roberto Corsini</td>\n",
       "      <td>Roberto</td>\n",
       "      <td>Corsini</td>\n",
       "      <td>a2</td>\n",
       "      <td>roberto</td>\n",
       "      <td>male</td>\n",
       "      <td>1</td>\n",
       "      <td>1</td>\n",
       "      <td>0</td>\n",
       "    </tr>\n",
       "    <tr>\n",
       "      <td>2503835</td>\n",
       "      <td>10.1103/PhysRevSTAB.14.014001</td>\n",
       "      <td>2011-01-21</td>\n",
       "      <td>Dmitry Shatilov</td>\n",
       "      <td>Dmitry</td>\n",
       "      <td>Shatilov</td>\n",
       "      <td>a1</td>\n",
       "      <td>dmitry</td>\n",
       "      <td>male</td>\n",
       "      <td>1</td>\n",
       "      <td>1</td>\n",
       "      <td>0</td>\n",
       "    </tr>\n",
       "    <tr>\n",
       "      <td>2503836</td>\n",
       "      <td>10.1103/PhysRevSTAB.14.014001</td>\n",
       "      <td>2011-01-21</td>\n",
       "      <td>Eugene Levichev</td>\n",
       "      <td>Eugene</td>\n",
       "      <td>Levichev</td>\n",
       "      <td>a1</td>\n",
       "      <td>eugene</td>\n",
       "      <td>male</td>\n",
       "      <td>1</td>\n",
       "      <td>1</td>\n",
       "      <td>0</td>\n",
       "    </tr>\n",
       "    <tr>\n",
       "      <td>2503837</td>\n",
       "      <td>10.1103/PhysRevSTAB.14.014001</td>\n",
       "      <td>2011-01-21</td>\n",
       "      <td>Evgeny Simonov</td>\n",
       "      <td>Evgeny</td>\n",
       "      <td>Simonov</td>\n",
       "      <td>a1</td>\n",
       "      <td>evgeny</td>\n",
       "      <td>male</td>\n",
       "      <td>1</td>\n",
       "      <td>1</td>\n",
       "      <td>0</td>\n",
       "    </tr>\n",
       "    <tr>\n",
       "      <td>2503838</td>\n",
       "      <td>10.1103/PhysRevSTAB.14.014001</td>\n",
       "      <td>2011-01-21</td>\n",
       "      <td>Mikhail Zobov</td>\n",
       "      <td>Mikhail</td>\n",
       "      <td>Zobov</td>\n",
       "      <td>a2</td>\n",
       "      <td>mikhail</td>\n",
       "      <td>male</td>\n",
       "      <td>1</td>\n",
       "      <td>1</td>\n",
       "      <td>0</td>\n",
       "    </tr>\n",
       "  </tbody>\n",
       "</table>\n",
       "</div>"
      ],
      "text/plain": [
       "                              paper_id        date             name    fname  \\\n",
       "2503634  10.1103/PhysRevSTAB.14.022001  2011-02-07  Roberto Corsini  Roberto   \n",
       "2503835  10.1103/PhysRevSTAB.14.014001  2011-01-21  Dmitry Shatilov   Dmitry   \n",
       "2503836  10.1103/PhysRevSTAB.14.014001  2011-01-21  Eugene Levichev   Eugene   \n",
       "2503837  10.1103/PhysRevSTAB.14.014001  2011-01-21   Evgeny Simonov   Evgeny   \n",
       "2503838  10.1103/PhysRevSTAB.14.014001  2011-01-21    Mikhail Zobov  Mikhail   \n",
       "\n",
       "            lname affiliationIds norm_fname gender  gen_count  m_colab  \\\n",
       "2503634   Corsini             a2    roberto   male          1        1   \n",
       "2503835  Shatilov             a1     dmitry   male          1        1   \n",
       "2503836  Levichev             a1     eugene   male          1        1   \n",
       "2503837   Simonov             a1     evgeny   male          1        1   \n",
       "2503838     Zobov             a2    mikhail   male          1        1   \n",
       "\n",
       "         f_colab  \n",
       "2503634        0  \n",
       "2503835        0  \n",
       "2503836        0  \n",
       "2503837        0  \n",
       "2503838        0  "
      ]
     },
     "execution_count": 28,
     "metadata": {},
     "output_type": "execute_result"
    }
   ],
   "source": [
    "df.tail(5)"
   ]
  },
  {
   "cell_type": "code",
   "execution_count": 29,
   "metadata": {},
   "outputs": [
    {
     "name": "stdout",
     "output_type": "stream",
     "text": [
      "males: 101645 and females: 9048\n"
     ]
    }
   ],
   "source": [
    "# QC\n",
    "print(\"males:\",df.m_colab.sum(), \"and females:\", df.f_colab.sum())\n",
    "# Results match"
   ]
  },
  {
   "cell_type": "markdown",
   "metadata": {},
   "source": [
    "#### Data at paper_id level"
   ]
  },
  {
   "cell_type": "code",
   "execution_count": 30,
   "metadata": {},
   "outputs": [],
   "source": [
    "colab_count = df.groupby(['paper_id']).agg({'name': 'count', 'm_colab': 'sum', 'f_colab': 'sum'}).reset_index()"
   ]
  },
  {
   "cell_type": "code",
   "execution_count": 31,
   "metadata": {},
   "outputs": [
    {
     "data": {
      "text/html": [
       "<div>\n",
       "<style scoped>\n",
       "    .dataframe tbody tr th:only-of-type {\n",
       "        vertical-align: middle;\n",
       "    }\n",
       "\n",
       "    .dataframe tbody tr th {\n",
       "        vertical-align: top;\n",
       "    }\n",
       "\n",
       "    .dataframe thead th {\n",
       "        text-align: right;\n",
       "    }\n",
       "</style>\n",
       "<table border=\"1\" class=\"dataframe\">\n",
       "  <thead>\n",
       "    <tr style=\"text-align: right;\">\n",
       "      <th></th>\n",
       "      <th>paper_id</th>\n",
       "      <th>name</th>\n",
       "      <th>m_colab</th>\n",
       "      <th>f_colab</th>\n",
       "    </tr>\n",
       "  </thead>\n",
       "  <tbody>\n",
       "    <tr>\n",
       "      <td>0</td>\n",
       "      <td>10.1103/PhysRev.1.124</td>\n",
       "      <td>1</td>\n",
       "      <td>1</td>\n",
       "      <td>0</td>\n",
       "    </tr>\n",
       "    <tr>\n",
       "      <td>1</td>\n",
       "      <td>10.1103/PhysRev.1.211</td>\n",
       "      <td>1</td>\n",
       "      <td>1</td>\n",
       "      <td>0</td>\n",
       "    </tr>\n",
       "    <tr>\n",
       "      <td>2</td>\n",
       "      <td>10.1103/PhysRev.1.446</td>\n",
       "      <td>1</td>\n",
       "      <td>1</td>\n",
       "      <td>0</td>\n",
       "    </tr>\n",
       "    <tr>\n",
       "      <td>3</td>\n",
       "      <td>10.1103/PhysRev.1.56</td>\n",
       "      <td>1</td>\n",
       "      <td>1</td>\n",
       "      <td>0</td>\n",
       "    </tr>\n",
       "    <tr>\n",
       "      <td>4</td>\n",
       "      <td>10.1103/PhysRev.10.1</td>\n",
       "      <td>1</td>\n",
       "      <td>1</td>\n",
       "      <td>0</td>\n",
       "    </tr>\n",
       "    <tr>\n",
       "      <td>...</td>\n",
       "      <td>...</td>\n",
       "      <td>...</td>\n",
       "      <td>...</td>\n",
       "      <td>...</td>\n",
       "    </tr>\n",
       "    <tr>\n",
       "      <td>55023</td>\n",
       "      <td>10.1103/RevModPhys.90.035001</td>\n",
       "      <td>2</td>\n",
       "      <td>2</td>\n",
       "      <td>0</td>\n",
       "    </tr>\n",
       "    <tr>\n",
       "      <td>55024</td>\n",
       "      <td>10.1103/RevModPhys.90.035007</td>\n",
       "      <td>1</td>\n",
       "      <td>1</td>\n",
       "      <td>0</td>\n",
       "    </tr>\n",
       "    <tr>\n",
       "      <td>55025</td>\n",
       "      <td>10.1103/RevModPhys.90.040501</td>\n",
       "      <td>1</td>\n",
       "      <td>1</td>\n",
       "      <td>0</td>\n",
       "    </tr>\n",
       "    <tr>\n",
       "      <td>55026</td>\n",
       "      <td>10.1103/RevModPhys.90.045001</td>\n",
       "      <td>2</td>\n",
       "      <td>1</td>\n",
       "      <td>1</td>\n",
       "    </tr>\n",
       "    <tr>\n",
       "      <td>55027</td>\n",
       "      <td>10.1103/RevModPhys.90.045003</td>\n",
       "      <td>1</td>\n",
       "      <td>1</td>\n",
       "      <td>0</td>\n",
       "    </tr>\n",
       "  </tbody>\n",
       "</table>\n",
       "<p>55028 rows × 4 columns</p>\n",
       "</div>"
      ],
      "text/plain": [
       "                           paper_id  name  m_colab  f_colab\n",
       "0             10.1103/PhysRev.1.124     1        1        0\n",
       "1             10.1103/PhysRev.1.211     1        1        0\n",
       "2             10.1103/PhysRev.1.446     1        1        0\n",
       "3              10.1103/PhysRev.1.56     1        1        0\n",
       "4              10.1103/PhysRev.10.1     1        1        0\n",
       "...                             ...   ...      ...      ...\n",
       "55023  10.1103/RevModPhys.90.035001     2        2        0\n",
       "55024  10.1103/RevModPhys.90.035007     1        1        0\n",
       "55025  10.1103/RevModPhys.90.040501     1        1        0\n",
       "55026  10.1103/RevModPhys.90.045001     2        1        1\n",
       "55027  10.1103/RevModPhys.90.045003     1        1        0\n",
       "\n",
       "[55028 rows x 4 columns]"
      ]
     },
     "execution_count": 31,
     "metadata": {},
     "output_type": "execute_result"
    }
   ],
   "source": [
    "colab_count"
   ]
  },
  {
   "cell_type": "code",
   "execution_count": null,
   "metadata": {},
   "outputs": [],
   "source": []
  },
  {
   "cell_type": "markdown",
   "metadata": {},
   "source": [
    "#### Overall Collaboration (across genders)"
   ]
  },
  {
   "cell_type": "code",
   "execution_count": 32,
   "metadata": {},
   "outputs": [
    {
     "name": "stdout",
     "output_type": "stream",
     "text": [
      "Average number of collaborators per paper: 2.01\n"
     ]
    }
   ],
   "source": [
    "print(\"Average number of collaborators per paper: {0:0.2f}\".format(np.mean(colab_count['name'])))"
   ]
  },
  {
   "cell_type": "markdown",
   "metadata": {},
   "source": [
    "#### Avg collab when female authors pressent"
   ]
  },
  {
   "cell_type": "code",
   "execution_count": 33,
   "metadata": {},
   "outputs": [],
   "source": [
    "colab_count_f = colab_count[colab_count['f_colab'] > 0]"
   ]
  },
  {
   "cell_type": "code",
   "execution_count": 34,
   "metadata": {},
   "outputs": [
    {
     "data": {
      "text/html": [
       "<div>\n",
       "<style scoped>\n",
       "    .dataframe tbody tr th:only-of-type {\n",
       "        vertical-align: middle;\n",
       "    }\n",
       "\n",
       "    .dataframe tbody tr th {\n",
       "        vertical-align: top;\n",
       "    }\n",
       "\n",
       "    .dataframe thead th {\n",
       "        text-align: right;\n",
       "    }\n",
       "</style>\n",
       "<table border=\"1\" class=\"dataframe\">\n",
       "  <thead>\n",
       "    <tr style=\"text-align: right;\">\n",
       "      <th></th>\n",
       "      <th>paper_id</th>\n",
       "      <th>name</th>\n",
       "      <th>m_colab</th>\n",
       "      <th>f_colab</th>\n",
       "    </tr>\n",
       "  </thead>\n",
       "  <tbody>\n",
       "    <tr>\n",
       "      <td>29</td>\n",
       "      <td>10.1103/PhysRev.101.1034</td>\n",
       "      <td>1</td>\n",
       "      <td>0</td>\n",
       "      <td>1</td>\n",
       "    </tr>\n",
       "    <tr>\n",
       "      <td>43</td>\n",
       "      <td>10.1103/PhysRev.101.1821</td>\n",
       "      <td>2</td>\n",
       "      <td>1</td>\n",
       "      <td>1</td>\n",
       "    </tr>\n",
       "    <tr>\n",
       "      <td>66</td>\n",
       "      <td>10.1103/PhysRev.102.1366</td>\n",
       "      <td>2</td>\n",
       "      <td>1</td>\n",
       "      <td>1</td>\n",
       "    </tr>\n",
       "    <tr>\n",
       "      <td>147</td>\n",
       "      <td>10.1103/PhysRev.105.1676</td>\n",
       "      <td>3</td>\n",
       "      <td>2</td>\n",
       "      <td>1</td>\n",
       "    </tr>\n",
       "    <tr>\n",
       "      <td>162</td>\n",
       "      <td>10.1103/PhysRev.106.1182</td>\n",
       "      <td>2</td>\n",
       "      <td>1</td>\n",
       "      <td>1</td>\n",
       "    </tr>\n",
       "    <tr>\n",
       "      <td>...</td>\n",
       "      <td>...</td>\n",
       "      <td>...</td>\n",
       "      <td>...</td>\n",
       "      <td>...</td>\n",
       "    </tr>\n",
       "    <tr>\n",
       "      <td>54969</td>\n",
       "      <td>10.1103/RevModPhys.82.383</td>\n",
       "      <td>3</td>\n",
       "      <td>2</td>\n",
       "      <td>1</td>\n",
       "    </tr>\n",
       "    <tr>\n",
       "      <td>55005</td>\n",
       "      <td>10.1103/RevModPhys.87.61</td>\n",
       "      <td>2</td>\n",
       "      <td>1</td>\n",
       "      <td>1</td>\n",
       "    </tr>\n",
       "    <tr>\n",
       "      <td>55006</td>\n",
       "      <td>10.1103/RevModPhys.87.765</td>\n",
       "      <td>3</td>\n",
       "      <td>2</td>\n",
       "      <td>1</td>\n",
       "    </tr>\n",
       "    <tr>\n",
       "      <td>55008</td>\n",
       "      <td>10.1103/RevModPhys.88.011002</td>\n",
       "      <td>6</td>\n",
       "      <td>5</td>\n",
       "      <td>1</td>\n",
       "    </tr>\n",
       "    <tr>\n",
       "      <td>55026</td>\n",
       "      <td>10.1103/RevModPhys.90.045001</td>\n",
       "      <td>2</td>\n",
       "      <td>1</td>\n",
       "      <td>1</td>\n",
       "    </tr>\n",
       "  </tbody>\n",
       "</table>\n",
       "<p>8098 rows × 4 columns</p>\n",
       "</div>"
      ],
      "text/plain": [
       "                           paper_id  name  m_colab  f_colab\n",
       "29         10.1103/PhysRev.101.1034     1        0        1\n",
       "43         10.1103/PhysRev.101.1821     2        1        1\n",
       "66         10.1103/PhysRev.102.1366     2        1        1\n",
       "147        10.1103/PhysRev.105.1676     3        2        1\n",
       "162        10.1103/PhysRev.106.1182     2        1        1\n",
       "...                             ...   ...      ...      ...\n",
       "54969     10.1103/RevModPhys.82.383     3        2        1\n",
       "55005      10.1103/RevModPhys.87.61     2        1        1\n",
       "55006     10.1103/RevModPhys.87.765     3        2        1\n",
       "55008  10.1103/RevModPhys.88.011002     6        5        1\n",
       "55026  10.1103/RevModPhys.90.045001     2        1        1\n",
       "\n",
       "[8098 rows x 4 columns]"
      ]
     },
     "execution_count": 34,
     "metadata": {},
     "output_type": "execute_result"
    }
   ],
   "source": [
    "colab_count_f"
   ]
  },
  {
   "cell_type": "code",
   "execution_count": 35,
   "metadata": {},
   "outputs": [],
   "source": [
    "# colab_count_f.name.describe()"
   ]
  },
  {
   "cell_type": "code",
   "execution_count": 36,
   "metadata": {},
   "outputs": [
    {
     "data": {
      "image/png": "[encoded data removed]",
      "text/plain": [
       "<Figure size 432x216 with 1 Axes>"
      ]
     },
     "metadata": {
      "needs_background": "light"
     },
     "output_type": "display_data"
    }
   ],
   "source": [
    "fig = plt.figure(figsize=(6, 3))\n",
    "colab_count_f.name.plot(kind='kde')\n",
    "plt.grid()\n",
    "plt.axis([0, 5, 0 , 2])\n",
    "plt.ylabel('Density')\n",
    "plt.xlabel('Avg collab when female authors present')\n",
    "plt.title('KDE Plot - Female')\n",
    "plt.show()\n",
    "fig.savefig('../../04 Plots/avg_collab_w_female_authors-kde')"
   ]
  },
  {
   "cell_type": "code",
   "execution_count": 37,
   "metadata": {},
   "outputs": [
    {
     "name": "stdout",
     "output_type": "stream",
     "text": [
      "Females: average number of collaborators per paper: 2.80 authors\n"
     ]
    }
   ],
   "source": [
    "print('Females: average number of collaborators per paper: {0:0.2f} authors'.format(np.mean(colab_count_f.name)))"
   ]
  },
  {
   "cell_type": "code",
   "execution_count": null,
   "metadata": {},
   "outputs": [],
   "source": []
  },
  {
   "cell_type": "markdown",
   "metadata": {},
   "source": [
    "#### Avg collab when male authors pressent"
   ]
  },
  {
   "cell_type": "code",
   "execution_count": 38,
   "metadata": {},
   "outputs": [],
   "source": [
    "colab_count_m = colab_count[colab_count['m_colab'] > 0]"
   ]
  },
  {
   "cell_type": "code",
   "execution_count": 39,
   "metadata": {},
   "outputs": [
    {
     "data": {
      "text/html": [
       "<div>\n",
       "<style scoped>\n",
       "    .dataframe tbody tr th:only-of-type {\n",
       "        vertical-align: middle;\n",
       "    }\n",
       "\n",
       "    .dataframe tbody tr th {\n",
       "        vertical-align: top;\n",
       "    }\n",
       "\n",
       "    .dataframe thead th {\n",
       "        text-align: right;\n",
       "    }\n",
       "</style>\n",
       "<table border=\"1\" class=\"dataframe\">\n",
       "  <thead>\n",
       "    <tr style=\"text-align: right;\">\n",
       "      <th></th>\n",
       "      <th>paper_id</th>\n",
       "      <th>name</th>\n",
       "      <th>m_colab</th>\n",
       "      <th>f_colab</th>\n",
       "    </tr>\n",
       "  </thead>\n",
       "  <tbody>\n",
       "    <tr>\n",
       "      <td>0</td>\n",
       "      <td>10.1103/PhysRev.1.124</td>\n",
       "      <td>1</td>\n",
       "      <td>1</td>\n",
       "      <td>0</td>\n",
       "    </tr>\n",
       "    <tr>\n",
       "      <td>1</td>\n",
       "      <td>10.1103/PhysRev.1.211</td>\n",
       "      <td>1</td>\n",
       "      <td>1</td>\n",
       "      <td>0</td>\n",
       "    </tr>\n",
       "    <tr>\n",
       "      <td>2</td>\n",
       "      <td>10.1103/PhysRev.1.446</td>\n",
       "      <td>1</td>\n",
       "      <td>1</td>\n",
       "      <td>0</td>\n",
       "    </tr>\n",
       "    <tr>\n",
       "      <td>3</td>\n",
       "      <td>10.1103/PhysRev.1.56</td>\n",
       "      <td>1</td>\n",
       "      <td>1</td>\n",
       "      <td>0</td>\n",
       "    </tr>\n",
       "    <tr>\n",
       "      <td>4</td>\n",
       "      <td>10.1103/PhysRev.10.1</td>\n",
       "      <td>1</td>\n",
       "      <td>1</td>\n",
       "      <td>0</td>\n",
       "    </tr>\n",
       "    <tr>\n",
       "      <td>...</td>\n",
       "      <td>...</td>\n",
       "      <td>...</td>\n",
       "      <td>...</td>\n",
       "      <td>...</td>\n",
       "    </tr>\n",
       "    <tr>\n",
       "      <td>55023</td>\n",
       "      <td>10.1103/RevModPhys.90.035001</td>\n",
       "      <td>2</td>\n",
       "      <td>2</td>\n",
       "      <td>0</td>\n",
       "    </tr>\n",
       "    <tr>\n",
       "      <td>55024</td>\n",
       "      <td>10.1103/RevModPhys.90.035007</td>\n",
       "      <td>1</td>\n",
       "      <td>1</td>\n",
       "      <td>0</td>\n",
       "    </tr>\n",
       "    <tr>\n",
       "      <td>55025</td>\n",
       "      <td>10.1103/RevModPhys.90.040501</td>\n",
       "      <td>1</td>\n",
       "      <td>1</td>\n",
       "      <td>0</td>\n",
       "    </tr>\n",
       "    <tr>\n",
       "      <td>55026</td>\n",
       "      <td>10.1103/RevModPhys.90.045001</td>\n",
       "      <td>2</td>\n",
       "      <td>1</td>\n",
       "      <td>1</td>\n",
       "    </tr>\n",
       "    <tr>\n",
       "      <td>55027</td>\n",
       "      <td>10.1103/RevModPhys.90.045003</td>\n",
       "      <td>1</td>\n",
       "      <td>1</td>\n",
       "      <td>0</td>\n",
       "    </tr>\n",
       "  </tbody>\n",
       "</table>\n",
       "<p>53757 rows × 4 columns</p>\n",
       "</div>"
      ],
      "text/plain": [
       "                           paper_id  name  m_colab  f_colab\n",
       "0             10.1103/PhysRev.1.124     1        1        0\n",
       "1             10.1103/PhysRev.1.211     1        1        0\n",
       "2             10.1103/PhysRev.1.446     1        1        0\n",
       "3              10.1103/PhysRev.1.56     1        1        0\n",
       "4              10.1103/PhysRev.10.1     1        1        0\n",
       "...                             ...   ...      ...      ...\n",
       "55023  10.1103/RevModPhys.90.035001     2        2        0\n",
       "55024  10.1103/RevModPhys.90.035007     1        1        0\n",
       "55025  10.1103/RevModPhys.90.040501     1        1        0\n",
       "55026  10.1103/RevModPhys.90.045001     2        1        1\n",
       "55027  10.1103/RevModPhys.90.045003     1        1        0\n",
       "\n",
       "[53757 rows x 4 columns]"
      ]
     },
     "execution_count": 39,
     "metadata": {},
     "output_type": "execute_result"
    }
   ],
   "source": [
    "colab_count_m"
   ]
  },
  {
   "cell_type": "code",
   "execution_count": 40,
   "metadata": {},
   "outputs": [],
   "source": [
    "# colab_count_m.name.describe()"
   ]
  },
  {
   "cell_type": "code",
   "execution_count": 41,
   "metadata": {},
   "outputs": [
    {
     "data": {
      "image/png": "[encoded data removed]",
      "text/plain": [
       "<Figure size 432x216 with 1 Axes>"
      ]
     },
     "metadata": {
      "needs_background": "light"
     },
     "output_type": "display_data"
    }
   ],
   "source": [
    "fig = plt.figure(figsize=(6, 3))\n",
    "colab_count_m.name.plot(kind='kde')\n",
    "plt.grid()\n",
    "plt.axis([0, 5, 0 , 2])\n",
    "plt.ylabel('Density')\n",
    "plt.xlabel('Avg collab when male authors pressent')\n",
    "plt.title('KDE Plot - Male')\n",
    "plt.show()\n",
    "fig.savefig('../../04 Plots/avg_collab_w_male_authors-kde')"
   ]
  },
  {
   "cell_type": "code",
   "execution_count": 42,
   "metadata": {},
   "outputs": [
    {
     "name": "stdout",
     "output_type": "stream",
     "text": [
      "Males: average number of collaborators per paper: 2.03 authors\n"
     ]
    }
   ],
   "source": [
    "print('Males: average number of collaborators per paper: {0:0.2f} authors'.format(np.mean(colab_count_m.name)))"
   ]
  },
  {
   "cell_type": "code",
   "execution_count": null,
   "metadata": {},
   "outputs": [],
   "source": []
  },
  {
   "cell_type": "markdown",
   "metadata": {},
   "source": [
    "#### Avg collab when ONLY male authors collaborate"
   ]
  },
  {
   "cell_type": "code",
   "execution_count": 43,
   "metadata": {},
   "outputs": [
    {
     "data": {
      "text/html": [
       "<div>\n",
       "<style scoped>\n",
       "    .dataframe tbody tr th:only-of-type {\n",
       "        vertical-align: middle;\n",
       "    }\n",
       "\n",
       "    .dataframe tbody tr th {\n",
       "        vertical-align: top;\n",
       "    }\n",
       "\n",
       "    .dataframe thead th {\n",
       "        text-align: right;\n",
       "    }\n",
       "</style>\n",
       "<table border=\"1\" class=\"dataframe\">\n",
       "  <thead>\n",
       "    <tr style=\"text-align: right;\">\n",
       "      <th></th>\n",
       "      <th>paper_id</th>\n",
       "      <th>name</th>\n",
       "      <th>m_colab</th>\n",
       "      <th>f_colab</th>\n",
       "    </tr>\n",
       "  </thead>\n",
       "  <tbody>\n",
       "    <tr>\n",
       "      <td>0</td>\n",
       "      <td>10.1103/PhysRev.1.124</td>\n",
       "      <td>1</td>\n",
       "      <td>1</td>\n",
       "      <td>0</td>\n",
       "    </tr>\n",
       "    <tr>\n",
       "      <td>1</td>\n",
       "      <td>10.1103/PhysRev.1.211</td>\n",
       "      <td>1</td>\n",
       "      <td>1</td>\n",
       "      <td>0</td>\n",
       "    </tr>\n",
       "    <tr>\n",
       "      <td>2</td>\n",
       "      <td>10.1103/PhysRev.1.446</td>\n",
       "      <td>1</td>\n",
       "      <td>1</td>\n",
       "      <td>0</td>\n",
       "    </tr>\n",
       "    <tr>\n",
       "      <td>3</td>\n",
       "      <td>10.1103/PhysRev.1.56</td>\n",
       "      <td>1</td>\n",
       "      <td>1</td>\n",
       "      <td>0</td>\n",
       "    </tr>\n",
       "    <tr>\n",
       "      <td>4</td>\n",
       "      <td>10.1103/PhysRev.10.1</td>\n",
       "      <td>1</td>\n",
       "      <td>1</td>\n",
       "      <td>0</td>\n",
       "    </tr>\n",
       "    <tr>\n",
       "      <td>...</td>\n",
       "      <td>...</td>\n",
       "      <td>...</td>\n",
       "      <td>...</td>\n",
       "      <td>...</td>\n",
       "    </tr>\n",
       "    <tr>\n",
       "      <td>55022</td>\n",
       "      <td>10.1103/RevModPhys.90.025004</td>\n",
       "      <td>5</td>\n",
       "      <td>5</td>\n",
       "      <td>0</td>\n",
       "    </tr>\n",
       "    <tr>\n",
       "      <td>55023</td>\n",
       "      <td>10.1103/RevModPhys.90.035001</td>\n",
       "      <td>2</td>\n",
       "      <td>2</td>\n",
       "      <td>0</td>\n",
       "    </tr>\n",
       "    <tr>\n",
       "      <td>55024</td>\n",
       "      <td>10.1103/RevModPhys.90.035007</td>\n",
       "      <td>1</td>\n",
       "      <td>1</td>\n",
       "      <td>0</td>\n",
       "    </tr>\n",
       "    <tr>\n",
       "      <td>55025</td>\n",
       "      <td>10.1103/RevModPhys.90.040501</td>\n",
       "      <td>1</td>\n",
       "      <td>1</td>\n",
       "      <td>0</td>\n",
       "    </tr>\n",
       "    <tr>\n",
       "      <td>55027</td>\n",
       "      <td>10.1103/RevModPhys.90.045003</td>\n",
       "      <td>1</td>\n",
       "      <td>1</td>\n",
       "      <td>0</td>\n",
       "    </tr>\n",
       "  </tbody>\n",
       "</table>\n",
       "<p>46930 rows × 4 columns</p>\n",
       "</div>"
      ],
      "text/plain": [
       "                           paper_id  name  m_colab  f_colab\n",
       "0             10.1103/PhysRev.1.124     1        1        0\n",
       "1             10.1103/PhysRev.1.211     1        1        0\n",
       "2             10.1103/PhysRev.1.446     1        1        0\n",
       "3              10.1103/PhysRev.1.56     1        1        0\n",
       "4              10.1103/PhysRev.10.1     1        1        0\n",
       "...                             ...   ...      ...      ...\n",
       "55022  10.1103/RevModPhys.90.025004     5        5        0\n",
       "55023  10.1103/RevModPhys.90.035001     2        2        0\n",
       "55024  10.1103/RevModPhys.90.035007     1        1        0\n",
       "55025  10.1103/RevModPhys.90.040501     1        1        0\n",
       "55027  10.1103/RevModPhys.90.045003     1        1        0\n",
       "\n",
       "[46930 rows x 4 columns]"
      ]
     },
     "execution_count": 43,
     "metadata": {},
     "output_type": "execute_result"
    }
   ],
   "source": [
    "colab_m_m = colab_count[(colab_count['m_colab'] > 0) & (colab_count['f_colab'] == 0)]\n",
    "colab_m_m"
   ]
  },
  {
   "cell_type": "code",
   "execution_count": 44,
   "metadata": {},
   "outputs": [],
   "source": [
    "# colab_m_m.name.describe()"
   ]
  },
  {
   "cell_type": "code",
   "execution_count": 45,
   "metadata": {},
   "outputs": [
    {
     "name": "stdout",
     "output_type": "stream",
     "text": [
      "Males: average number of collaborators per paper when ONLY male collab: 1.88 authors\n"
     ]
    }
   ],
   "source": [
    "print('Males: average number of collaborators per paper when ONLY male collab: {0:0.2f} authors'.format(np.mean(colab_m_m.name)))"
   ]
  },
  {
   "cell_type": "markdown",
   "metadata": {},
   "source": [
    "##### female-female"
   ]
  },
  {
   "cell_type": "code",
   "execution_count": 46,
   "metadata": {},
   "outputs": [
    {
     "data": {
      "text/html": [
       "<div>\n",
       "<style scoped>\n",
       "    .dataframe tbody tr th:only-of-type {\n",
       "        vertical-align: middle;\n",
       "    }\n",
       "\n",
       "    .dataframe tbody tr th {\n",
       "        vertical-align: top;\n",
       "    }\n",
       "\n",
       "    .dataframe thead th {\n",
       "        text-align: right;\n",
       "    }\n",
       "</style>\n",
       "<table border=\"1\" class=\"dataframe\">\n",
       "  <thead>\n",
       "    <tr style=\"text-align: right;\">\n",
       "      <th></th>\n",
       "      <th>paper_id</th>\n",
       "      <th>name</th>\n",
       "      <th>m_colab</th>\n",
       "      <th>f_colab</th>\n",
       "    </tr>\n",
       "  </thead>\n",
       "  <tbody>\n",
       "    <tr>\n",
       "      <td>29</td>\n",
       "      <td>10.1103/PhysRev.101.1034</td>\n",
       "      <td>1</td>\n",
       "      <td>0</td>\n",
       "      <td>1</td>\n",
       "    </tr>\n",
       "    <tr>\n",
       "      <td>210</td>\n",
       "      <td>10.1103/PhysRev.107.843</td>\n",
       "      <td>1</td>\n",
       "      <td>0</td>\n",
       "      <td>1</td>\n",
       "    </tr>\n",
       "    <tr>\n",
       "      <td>212</td>\n",
       "      <td>10.1103/PhysRev.107.92</td>\n",
       "      <td>1</td>\n",
       "      <td>0</td>\n",
       "      <td>1</td>\n",
       "    </tr>\n",
       "    <tr>\n",
       "      <td>250</td>\n",
       "      <td>10.1103/PhysRev.109.1645</td>\n",
       "      <td>1</td>\n",
       "      <td>0</td>\n",
       "      <td>1</td>\n",
       "    </tr>\n",
       "    <tr>\n",
       "      <td>284</td>\n",
       "      <td>10.1103/PhysRev.11.21</td>\n",
       "      <td>1</td>\n",
       "      <td>0</td>\n",
       "      <td>1</td>\n",
       "    </tr>\n",
       "    <tr>\n",
       "      <td>...</td>\n",
       "      <td>...</td>\n",
       "      <td>...</td>\n",
       "      <td>...</td>\n",
       "      <td>...</td>\n",
       "    </tr>\n",
       "    <tr>\n",
       "      <td>54795</td>\n",
       "      <td>10.1103/RevModPhys.54.1183</td>\n",
       "      <td>1</td>\n",
       "      <td>0</td>\n",
       "      <td>1</td>\n",
       "    </tr>\n",
       "    <tr>\n",
       "      <td>54801</td>\n",
       "      <td>10.1103/RevModPhys.55.511</td>\n",
       "      <td>1</td>\n",
       "      <td>0</td>\n",
       "      <td>1</td>\n",
       "    </tr>\n",
       "    <tr>\n",
       "      <td>54824</td>\n",
       "      <td>10.1103/RevModPhys.60.859</td>\n",
       "      <td>1</td>\n",
       "      <td>0</td>\n",
       "      <td>1</td>\n",
       "    </tr>\n",
       "    <tr>\n",
       "      <td>54833</td>\n",
       "      <td>10.1103/RevModPhys.63.735</td>\n",
       "      <td>1</td>\n",
       "      <td>0</td>\n",
       "      <td>1</td>\n",
       "    </tr>\n",
       "    <tr>\n",
       "      <td>54932</td>\n",
       "      <td>10.1103/RevModPhys.78.1111</td>\n",
       "      <td>1</td>\n",
       "      <td>0</td>\n",
       "      <td>1</td>\n",
       "    </tr>\n",
       "  </tbody>\n",
       "</table>\n",
       "<p>1271 rows × 4 columns</p>\n",
       "</div>"
      ],
      "text/plain": [
       "                         paper_id  name  m_colab  f_colab\n",
       "29       10.1103/PhysRev.101.1034     1        0        1\n",
       "210       10.1103/PhysRev.107.843     1        0        1\n",
       "212        10.1103/PhysRev.107.92     1        0        1\n",
       "250      10.1103/PhysRev.109.1645     1        0        1\n",
       "284         10.1103/PhysRev.11.21     1        0        1\n",
       "...                           ...   ...      ...      ...\n",
       "54795  10.1103/RevModPhys.54.1183     1        0        1\n",
       "54801   10.1103/RevModPhys.55.511     1        0        1\n",
       "54824   10.1103/RevModPhys.60.859     1        0        1\n",
       "54833   10.1103/RevModPhys.63.735     1        0        1\n",
       "54932  10.1103/RevModPhys.78.1111     1        0        1\n",
       "\n",
       "[1271 rows x 4 columns]"
      ]
     },
     "execution_count": 46,
     "metadata": {},
     "output_type": "execute_result"
    }
   ],
   "source": [
    "colab_f_f = colab_count[(colab_count['f_colab'] > 0) & (colab_count['m_colab'] == 0)]\n",
    "colab_f_f"
   ]
  },
  {
   "cell_type": "code",
   "execution_count": 47,
   "metadata": {},
   "outputs": [
    {
     "data": {
      "text/plain": [
       "count    1271.00000\n",
       "mean        1.13454\n",
       "std         0.38269\n",
       "min         1.00000\n",
       "25%         1.00000\n",
       "50%         1.00000\n",
       "75%         1.00000\n",
       "max         4.00000\n",
       "Name: name, dtype: float64"
      ]
     },
     "execution_count": 47,
     "metadata": {},
     "output_type": "execute_result"
    }
   ],
   "source": [
    "colab_f_f.name.describe()"
   ]
  },
  {
   "cell_type": "code",
   "execution_count": 48,
   "metadata": {},
   "outputs": [],
   "source": [
    "# QC\n",
    "# colab_count[colab_count['name'] >= 11]"
   ]
  },
  {
   "cell_type": "code",
   "execution_count": 80,
   "metadata": {},
   "outputs": [
    {
     "name": "stdout",
     "output_type": "stream",
     "text": [
      "Average number of collaborators per paper: 2.01\n"
     ]
    }
   ],
   "source": [
    "print(\"Average number of collaborators per paper: {0:0.2f}\".format(np.mean(colab_count['name'])))"
   ]
  },
  {
   "cell_type": "code",
   "execution_count": 81,
   "metadata": {},
   "outputs": [
    {
     "name": "stdout",
     "output_type": "stream",
     "text": [
      "Females: average number of collaborators per paper when ONLY female collab: 1.13 authors\n"
     ]
    }
   ],
   "source": [
    "print('Females: average number of collaborators per paper when ONLY female collab: {0:0.2f} authors'.format(np.mean(colab_f_f.name)))"
   ]
  },
  {
   "cell_type": "code",
   "execution_count": 82,
   "metadata": {},
   "outputs": [
    {
     "name": "stdout",
     "output_type": "stream",
     "text": [
      "Males: Avg # collaborators age when [m-f, m-m, m]  = 2.03 authors\n"
     ]
    }
   ],
   "source": [
    "m1 = np.mean(colab_count[colab_count.m_colab > 0]['name'])\n",
    "print('Males: Avg # collaborators age when [m-f, m-m, m]  = {0:0.2f} authors'.format(m1))"
   ]
  },
  {
   "cell_type": "code",
   "execution_count": 83,
   "metadata": {},
   "outputs": [
    {
     "name": "stdout",
     "output_type": "stream",
     "text": [
      "Females: Avg # collaborators age when [m-f, f-f, f]  = 2.80 authors\n"
     ]
    }
   ],
   "source": [
    "f1 = np.mean(colab_count[colab_count.f_colab > 0]['name'])\n",
    "print('Females: Avg # collaborators age when [m-f, f-f, f]  = {0:0.2f} authors'.format(f1))"
   ]
  },
  {
   "cell_type": "code",
   "execution_count": 84,
   "metadata": {},
   "outputs": [
    {
     "name": "stdout",
     "output_type": "stream",
     "text": [
      "Females: Avg # collaborators age when [m-m, m]  = 1.88 authors\n"
     ]
    }
   ],
   "source": [
    "m2 = np.mean(colab_count[(colab_count['m_colab'] > 0) & (colab_count['f_colab'] == 0)]['name'])\n",
    "print('Females: Avg # collaborators age when [m-m, m]  = {0:0.2f} authors'.format(m2))"
   ]
  },
  {
   "cell_type": "code",
   "execution_count": 85,
   "metadata": {},
   "outputs": [
    {
     "name": "stdout",
     "output_type": "stream",
     "text": [
      "Females: Avg # collaborators age when [f-f, f]  = 1.13 authors\n"
     ]
    }
   ],
   "source": [
    "f2 = np.mean(colab_count[(colab_count['f_colab'] > 0) & (colab_count['m_colab'] == 0)]['name'])\n",
    "print('Females: Avg # collaborators age when [f-f, f]  = {0:0.2f} authors'.format(f2))"
   ]
  },
  {
   "cell_type": "code",
   "execution_count": 86,
   "metadata": {},
   "outputs": [
    {
     "name": "stdout",
     "output_type": "stream",
     "text": [
      "BOTH: Avg # collaborators age when [m-f]  = 3.11 authors\n"
     ]
    }
   ],
   "source": [
    "mf = np.mean(colab_count[(colab_count['f_colab'] > 0) & (colab_count['m_colab'] > 0)]['name'])\n",
    "print('BOTH: Avg # collaborators age when [m-f]  = {0:0.2f} authors'.format(mf))"
   ]
  },
  {
   "cell_type": "markdown",
   "metadata": {},
   "source": [
    "#### % collab across genders"
   ]
  },
  {
   "cell_type": "code",
   "execution_count": 56,
   "metadata": {},
   "outputs": [
    {
     "name": "stdout",
     "output_type": "stream",
     "text": [
      "% of papers with ONLY FEMALE authors/collaborators: 2.31% papers\n",
      "% of papers with ONLY MALE authors/collaborators: 85.28% papers\n",
      "% of papers with BOTH MALE & FEMALE authors/collaborators: 12.41% papers\n"
     ]
    }
   ],
   "source": [
    "f_only = colab_count[(colab_count['f_colab'] > 0) & (colab_count['m_colab'] == 0)]\n",
    "m_only = colab_count[(colab_count['m_colab'] > 0) & (colab_count['f_colab'] == 0)]\n",
    "both = colab_count[(colab_count['m_colab'] > 0) & (colab_count['f_colab'] > 0)]\n",
    "print('% of papers with ONLY FEMALE authors/collaborators: {0:0.2%} papers'.format(f_only.shape[0]/colab_count.shape[0]))\n",
    "print('% of papers with ONLY MALE authors/collaborators: {0:0.2%} papers'.format(m_only.shape[0]/colab_count.shape[0]))\n",
    "print('% of papers with BOTH MALE & FEMALE authors/collaborators: {0:0.2%} papers'.format(both.shape[0]/colab_count.shape[0]))"
   ]
  },
  {
   "cell_type": "code",
   "execution_count": null,
   "metadata": {},
   "outputs": [],
   "source": []
  },
  {
   "cell_type": "markdown",
   "metadata": {},
   "source": [
    "### % male-female if only 2 authors"
   ]
  },
  {
   "cell_type": "code",
   "execution_count": 57,
   "metadata": {},
   "outputs": [],
   "source": [
    "# colab_count"
   ]
  },
  {
   "cell_type": "code",
   "execution_count": 58,
   "metadata": {},
   "outputs": [],
   "source": [
    "df_2auth = colab_count[colab_count.name == 2]"
   ]
  },
  {
   "cell_type": "code",
   "execution_count": 59,
   "metadata": {},
   "outputs": [
    {
     "data": {
      "text/html": [
       "<div>\n",
       "<style scoped>\n",
       "    .dataframe tbody tr th:only-of-type {\n",
       "        vertical-align: middle;\n",
       "    }\n",
       "\n",
       "    .dataframe tbody tr th {\n",
       "        vertical-align: top;\n",
       "    }\n",
       "\n",
       "    .dataframe thead th {\n",
       "        text-align: right;\n",
       "    }\n",
       "</style>\n",
       "<table border=\"1\" class=\"dataframe\">\n",
       "  <thead>\n",
       "    <tr style=\"text-align: right;\">\n",
       "      <th></th>\n",
       "      <th>paper_id</th>\n",
       "      <th>name</th>\n",
       "      <th>m_colab</th>\n",
       "      <th>f_colab</th>\n",
       "    </tr>\n",
       "  </thead>\n",
       "  <tbody>\n",
       "    <tr>\n",
       "      <td>0</td>\n",
       "      <td>10.1103/PhysRev.100.1023</td>\n",
       "      <td>2</td>\n",
       "      <td>2</td>\n",
       "      <td>0</td>\n",
       "    </tr>\n",
       "    <tr>\n",
       "      <td>1</td>\n",
       "      <td>10.1103/PhysRev.100.1350</td>\n",
       "      <td>2</td>\n",
       "      <td>2</td>\n",
       "      <td>0</td>\n",
       "    </tr>\n",
       "    <tr>\n",
       "      <td>2</td>\n",
       "      <td>10.1103/PhysRev.100.1445</td>\n",
       "      <td>2</td>\n",
       "      <td>2</td>\n",
       "      <td>0</td>\n",
       "    </tr>\n",
       "    <tr>\n",
       "      <td>3</td>\n",
       "      <td>10.1103/PhysRev.100.592</td>\n",
       "      <td>2</td>\n",
       "      <td>2</td>\n",
       "      <td>0</td>\n",
       "    </tr>\n",
       "    <tr>\n",
       "      <td>4</td>\n",
       "      <td>10.1103/PhysRev.101.1233</td>\n",
       "      <td>2</td>\n",
       "      <td>2</td>\n",
       "      <td>0</td>\n",
       "    </tr>\n",
       "    <tr>\n",
       "      <td>...</td>\n",
       "      <td>...</td>\n",
       "      <td>...</td>\n",
       "      <td>...</td>\n",
       "      <td>...</td>\n",
       "    </tr>\n",
       "    <tr>\n",
       "      <td>19018</td>\n",
       "      <td>10.1103/RevModPhys.89.015005</td>\n",
       "      <td>2</td>\n",
       "      <td>2</td>\n",
       "      <td>0</td>\n",
       "    </tr>\n",
       "    <tr>\n",
       "      <td>19019</td>\n",
       "      <td>10.1103/RevModPhys.89.035003</td>\n",
       "      <td>2</td>\n",
       "      <td>2</td>\n",
       "      <td>0</td>\n",
       "    </tr>\n",
       "    <tr>\n",
       "      <td>19020</td>\n",
       "      <td>10.1103/RevModPhys.90.010001</td>\n",
       "      <td>2</td>\n",
       "      <td>2</td>\n",
       "      <td>0</td>\n",
       "    </tr>\n",
       "    <tr>\n",
       "      <td>19021</td>\n",
       "      <td>10.1103/RevModPhys.90.035001</td>\n",
       "      <td>2</td>\n",
       "      <td>2</td>\n",
       "      <td>0</td>\n",
       "    </tr>\n",
       "    <tr>\n",
       "      <td>19022</td>\n",
       "      <td>10.1103/RevModPhys.90.045001</td>\n",
       "      <td>2</td>\n",
       "      <td>1</td>\n",
       "      <td>1</td>\n",
       "    </tr>\n",
       "  </tbody>\n",
       "</table>\n",
       "<p>19023 rows × 4 columns</p>\n",
       "</div>"
      ],
      "text/plain": [
       "                           paper_id  name  m_colab  f_colab\n",
       "0          10.1103/PhysRev.100.1023     2        2        0\n",
       "1          10.1103/PhysRev.100.1350     2        2        0\n",
       "2          10.1103/PhysRev.100.1445     2        2        0\n",
       "3           10.1103/PhysRev.100.592     2        2        0\n",
       "4          10.1103/PhysRev.101.1233     2        2        0\n",
       "...                             ...   ...      ...      ...\n",
       "19018  10.1103/RevModPhys.89.015005     2        2        0\n",
       "19019  10.1103/RevModPhys.89.035003     2        2        0\n",
       "19020  10.1103/RevModPhys.90.010001     2        2        0\n",
       "19021  10.1103/RevModPhys.90.035001     2        2        0\n",
       "19022  10.1103/RevModPhys.90.045001     2        1        1\n",
       "\n",
       "[19023 rows x 4 columns]"
      ]
     },
     "execution_count": 59,
     "metadata": {},
     "output_type": "execute_result"
    }
   ],
   "source": [
    "df_2auth.reset_index(drop=True)"
   ]
  },
  {
   "cell_type": "code",
   "execution_count": 66,
   "metadata": {},
   "outputs": [
    {
     "name": "stdout",
     "output_type": "stream",
     "text": [
      "2 Author - % of papers with ONLY FEMALE authors/collaborators: 0.71% papers\n",
      "2 Author - % of papers with ONLY MALE authors/collaborators: 84.96% papers\n",
      "2 Author - % of papers with BOTH MALE & FEMALE authors/collaborators: 14.33% papers\n"
     ]
    }
   ],
   "source": [
    "f_only = df_2auth[(df_2auth['f_colab'] > 0) & (df_2auth['m_colab'] == 0)]\n",
    "m_only = df_2auth[(df_2auth['m_colab'] > 0) & (df_2auth['f_colab'] == 0)]\n",
    "both = df_2auth[(df_2auth['m_colab'] > 0) & (df_2auth['f_colab'] > 0)]\n",
    "print('2 Author - % of papers with ONLY FEMALE authors/collaborators: {0:0.2%} papers'.format(f_only.shape[0]/df_2auth.shape[0]))\n",
    "print('2 Author - % of papers with ONLY MALE authors/collaborators: {0:0.2%} papers'.format(m_only.shape[0]/df_2auth.shape[0]))\n",
    "print('2 Author - % of papers with BOTH MALE & FEMALE authors/collaborators: {0:0.2%} papers'.format(both.shape[0]/df_2auth.shape[0]))"
   ]
  },
  {
   "cell_type": "code",
   "execution_count": 67,
   "metadata": {},
   "outputs": [
    {
     "name": "stdout",
     "output_type": "stream",
     "text": [
      "2 Author - % of papers with ONLY FEMALE authors/collaborators: 0.71% papers\n",
      "2 Author - % of papers with ONLY MALE authors/collaborators: 84.96% papers\n",
      "2 Author - % of papers with BOTH MALE & FEMALE authors/collaborators: 14.33% papers\n"
     ]
    }
   ],
   "source": [
    "f_only = df_2auth[(df_2auth['f_colab'] ==2)]\n",
    "m_only = df_2auth[(df_2auth['m_colab'] ==2)]\n",
    "both = df_2auth[(df_2auth['m_colab'] > 0) & (df_2auth['f_colab'] > 0)]\n",
    "print('2 Author - % of papers with ONLY FEMALE authors/collaborators: {0:0.2%} papers'.format(f_only.shape[0]/df_2auth.shape[0]))\n",
    "print('2 Author - % of papers with ONLY MALE authors/collaborators: {0:0.2%} papers'.format(m_only.shape[0]/df_2auth.shape[0]))\n",
    "print('2 Author - % of papers with BOTH MALE & FEMALE authors/collaborators: {0:0.2%} papers'.format(both.shape[0]/df_2auth.shape[0]))"
   ]
  },
  {
   "cell_type": "code",
   "execution_count": null,
   "metadata": {},
   "outputs": [],
   "source": []
  },
  {
   "cell_type": "markdown",
   "metadata": {},
   "source": [
    "#### % colab when 3 or more authors"
   ]
  },
  {
   "cell_type": "code",
   "execution_count": 61,
   "metadata": {},
   "outputs": [],
   "source": [
    "df_3more = colab_count[colab_count.name >= 3]"
   ]
  },
  {
   "cell_type": "code",
   "execution_count": 62,
   "metadata": {},
   "outputs": [
    {
     "data": {
      "text/html": [
       "<div>\n",
       "<style scoped>\n",
       "    .dataframe tbody tr th:only-of-type {\n",
       "        vertical-align: middle;\n",
       "    }\n",
       "\n",
       "    .dataframe tbody tr th {\n",
       "        vertical-align: top;\n",
       "    }\n",
       "\n",
       "    .dataframe thead th {\n",
       "        text-align: right;\n",
       "    }\n",
       "</style>\n",
       "<table border=\"1\" class=\"dataframe\">\n",
       "  <thead>\n",
       "    <tr style=\"text-align: right;\">\n",
       "      <th></th>\n",
       "      <th>paper_id</th>\n",
       "      <th>name</th>\n",
       "      <th>m_colab</th>\n",
       "      <th>f_colab</th>\n",
       "    </tr>\n",
       "  </thead>\n",
       "  <tbody>\n",
       "    <tr>\n",
       "      <td>0</td>\n",
       "      <td>10.1103/PhysRev.100.947</td>\n",
       "      <td>4</td>\n",
       "      <td>4</td>\n",
       "      <td>0</td>\n",
       "    </tr>\n",
       "    <tr>\n",
       "      <td>1</td>\n",
       "      <td>10.1103/PhysRev.101.1047</td>\n",
       "      <td>3</td>\n",
       "      <td>3</td>\n",
       "      <td>0</td>\n",
       "    </tr>\n",
       "    <tr>\n",
       "      <td>2</td>\n",
       "      <td>10.1103/PhysRev.101.563</td>\n",
       "      <td>5</td>\n",
       "      <td>5</td>\n",
       "      <td>0</td>\n",
       "    </tr>\n",
       "    <tr>\n",
       "      <td>3</td>\n",
       "      <td>10.1103/PhysRev.102.1181</td>\n",
       "      <td>3</td>\n",
       "      <td>3</td>\n",
       "      <td>0</td>\n",
       "    </tr>\n",
       "    <tr>\n",
       "      <td>4</td>\n",
       "      <td>10.1103/PhysRev.102.1209</td>\n",
       "      <td>3</td>\n",
       "      <td>3</td>\n",
       "      <td>0</td>\n",
       "    </tr>\n",
       "    <tr>\n",
       "      <td>...</td>\n",
       "      <td>...</td>\n",
       "      <td>...</td>\n",
       "      <td>...</td>\n",
       "      <td>...</td>\n",
       "    </tr>\n",
       "    <tr>\n",
       "      <td>14166</td>\n",
       "      <td>10.1103/RevModPhys.87.765</td>\n",
       "      <td>3</td>\n",
       "      <td>2</td>\n",
       "      <td>1</td>\n",
       "    </tr>\n",
       "    <tr>\n",
       "      <td>14167</td>\n",
       "      <td>10.1103/RevModPhys.88.011002</td>\n",
       "      <td>6</td>\n",
       "      <td>5</td>\n",
       "      <td>1</td>\n",
       "    </tr>\n",
       "    <tr>\n",
       "      <td>14168</td>\n",
       "      <td>10.1103/RevModPhys.88.045001</td>\n",
       "      <td>3</td>\n",
       "      <td>3</td>\n",
       "      <td>0</td>\n",
       "    </tr>\n",
       "    <tr>\n",
       "      <td>14169</td>\n",
       "      <td>10.1103/RevModPhys.88.045006</td>\n",
       "      <td>6</td>\n",
       "      <td>6</td>\n",
       "      <td>0</td>\n",
       "    </tr>\n",
       "    <tr>\n",
       "      <td>14170</td>\n",
       "      <td>10.1103/RevModPhys.90.025004</td>\n",
       "      <td>5</td>\n",
       "      <td>5</td>\n",
       "      <td>0</td>\n",
       "    </tr>\n",
       "  </tbody>\n",
       "</table>\n",
       "<p>14171 rows × 4 columns</p>\n",
       "</div>"
      ],
      "text/plain": [
       "                           paper_id  name  m_colab  f_colab\n",
       "0           10.1103/PhysRev.100.947     4        4        0\n",
       "1          10.1103/PhysRev.101.1047     3        3        0\n",
       "2           10.1103/PhysRev.101.563     5        5        0\n",
       "3          10.1103/PhysRev.102.1181     3        3        0\n",
       "4          10.1103/PhysRev.102.1209     3        3        0\n",
       "...                             ...   ...      ...      ...\n",
       "14166     10.1103/RevModPhys.87.765     3        2        1\n",
       "14167  10.1103/RevModPhys.88.011002     6        5        1\n",
       "14168  10.1103/RevModPhys.88.045001     3        3        0\n",
       "14169  10.1103/RevModPhys.88.045006     6        6        0\n",
       "14170  10.1103/RevModPhys.90.025004     5        5        0\n",
       "\n",
       "[14171 rows x 4 columns]"
      ]
     },
     "execution_count": 62,
     "metadata": {},
     "output_type": "execute_result"
    }
   ],
   "source": [
    "df_3more.reset_index(drop=True)"
   ]
  },
  {
   "cell_type": "code",
   "execution_count": 63,
   "metadata": {},
   "outputs": [
    {
     "name": "stdout",
     "output_type": "stream",
     "text": [
      ">=3 Author - % of papers with ONLY FEMALE authors/collaborators: 0.12% papers\n",
      ">=3 Author - % of papers with ONLY MALE authors/collaborators: 70.94% papers\n",
      ">=3 Author - % of papers with BOTH MALE & FEMALE authors/collaborators: 28.94% papers\n"
     ]
    }
   ],
   "source": [
    "f_only = df_3more[(df_3more['f_colab'] > 0) & (df_3more['m_colab'] == 0)]\n",
    "m_only = df_3more[(df_3more['m_colab'] > 0) & (df_3more['f_colab'] == 0)]\n",
    "both = df_3more[(df_3more['m_colab'] > 0) & (df_3more['f_colab'] > 0)]\n",
    "print('>=3 Author - % of papers with ONLY FEMALE authors/collaborators: {0:0.2%} papers'.format(f_only.shape[0]/df_3more.shape[0]))\n",
    "print('>=3 Author - % of papers with ONLY MALE authors/collaborators: {0:0.2%} papers'.format(m_only.shape[0]/df_3more.shape[0]))\n",
    "print('>=3 Author - % of papers with BOTH MALE & FEMALE authors/collaborators: {0:0.2%} papers'.format(both.shape[0]/df_3more.shape[0]))"
   ]
  },
  {
   "cell_type": "code",
   "execution_count": null,
   "metadata": {},
   "outputs": [],
   "source": []
  },
  {
   "cell_type": "markdown",
   "metadata": {},
   "source": [
    "#### Only 1 Author, as % of population"
   ]
  },
  {
   "cell_type": "code",
   "execution_count": 64,
   "metadata": {},
   "outputs": [
    {
     "data": {
      "text/html": [
       "<div>\n",
       "<style scoped>\n",
       "    .dataframe tbody tr th:only-of-type {\n",
       "        vertical-align: middle;\n",
       "    }\n",
       "\n",
       "    .dataframe tbody tr th {\n",
       "        vertical-align: top;\n",
       "    }\n",
       "\n",
       "    .dataframe thead th {\n",
       "        text-align: right;\n",
       "    }\n",
       "</style>\n",
       "<table border=\"1\" class=\"dataframe\">\n",
       "  <thead>\n",
       "    <tr style=\"text-align: right;\">\n",
       "      <th></th>\n",
       "      <th>paper_id</th>\n",
       "      <th>name</th>\n",
       "      <th>m_colab</th>\n",
       "      <th>f_colab</th>\n",
       "    </tr>\n",
       "  </thead>\n",
       "  <tbody>\n",
       "    <tr>\n",
       "      <td>0</td>\n",
       "      <td>10.1103/PhysRev.1.124</td>\n",
       "      <td>1</td>\n",
       "      <td>1</td>\n",
       "      <td>0</td>\n",
       "    </tr>\n",
       "    <tr>\n",
       "      <td>1</td>\n",
       "      <td>10.1103/PhysRev.1.211</td>\n",
       "      <td>1</td>\n",
       "      <td>1</td>\n",
       "      <td>0</td>\n",
       "    </tr>\n",
       "    <tr>\n",
       "      <td>2</td>\n",
       "      <td>10.1103/PhysRev.1.446</td>\n",
       "      <td>1</td>\n",
       "      <td>1</td>\n",
       "      <td>0</td>\n",
       "    </tr>\n",
       "    <tr>\n",
       "      <td>3</td>\n",
       "      <td>10.1103/PhysRev.1.56</td>\n",
       "      <td>1</td>\n",
       "      <td>1</td>\n",
       "      <td>0</td>\n",
       "    </tr>\n",
       "    <tr>\n",
       "      <td>4</td>\n",
       "      <td>10.1103/PhysRev.10.1</td>\n",
       "      <td>1</td>\n",
       "      <td>1</td>\n",
       "      <td>0</td>\n",
       "    </tr>\n",
       "    <tr>\n",
       "      <td>...</td>\n",
       "      <td>...</td>\n",
       "      <td>...</td>\n",
       "      <td>...</td>\n",
       "      <td>...</td>\n",
       "    </tr>\n",
       "    <tr>\n",
       "      <td>55023</td>\n",
       "      <td>10.1103/RevModPhys.90.035001</td>\n",
       "      <td>2</td>\n",
       "      <td>2</td>\n",
       "      <td>0</td>\n",
       "    </tr>\n",
       "    <tr>\n",
       "      <td>55024</td>\n",
       "      <td>10.1103/RevModPhys.90.035007</td>\n",
       "      <td>1</td>\n",
       "      <td>1</td>\n",
       "      <td>0</td>\n",
       "    </tr>\n",
       "    <tr>\n",
       "      <td>55025</td>\n",
       "      <td>10.1103/RevModPhys.90.040501</td>\n",
       "      <td>1</td>\n",
       "      <td>1</td>\n",
       "      <td>0</td>\n",
       "    </tr>\n",
       "    <tr>\n",
       "      <td>55026</td>\n",
       "      <td>10.1103/RevModPhys.90.045001</td>\n",
       "      <td>2</td>\n",
       "      <td>1</td>\n",
       "      <td>1</td>\n",
       "    </tr>\n",
       "    <tr>\n",
       "      <td>55027</td>\n",
       "      <td>10.1103/RevModPhys.90.045003</td>\n",
       "      <td>1</td>\n",
       "      <td>1</td>\n",
       "      <td>0</td>\n",
       "    </tr>\n",
       "  </tbody>\n",
       "</table>\n",
       "<p>55028 rows × 4 columns</p>\n",
       "</div>"
      ],
      "text/plain": [
       "                           paper_id  name  m_colab  f_colab\n",
       "0             10.1103/PhysRev.1.124     1        1        0\n",
       "1             10.1103/PhysRev.1.211     1        1        0\n",
       "2             10.1103/PhysRev.1.446     1        1        0\n",
       "3              10.1103/PhysRev.1.56     1        1        0\n",
       "4              10.1103/PhysRev.10.1     1        1        0\n",
       "...                             ...   ...      ...      ...\n",
       "55023  10.1103/RevModPhys.90.035001     2        2        0\n",
       "55024  10.1103/RevModPhys.90.035007     1        1        0\n",
       "55025  10.1103/RevModPhys.90.040501     1        1        0\n",
       "55026  10.1103/RevModPhys.90.045001     2        1        1\n",
       "55027  10.1103/RevModPhys.90.045003     1        1        0\n",
       "\n",
       "[55028 rows x 4 columns]"
      ]
     },
     "execution_count": 64,
     "metadata": {},
     "output_type": "execute_result"
    }
   ],
   "source": [
    "colab_count"
   ]
  },
  {
   "cell_type": "code",
   "execution_count": 73,
   "metadata": {},
   "outputs": [
    {
     "name": "stdout",
     "output_type": "stream",
     "text": [
      "% of papers with 1 FEMALE author as % of female only paper population: 77.53% papers\n",
      "% of papers with 1 MALE author as % of female only paper population: 23.53% papers\n"
     ]
    }
   ],
   "source": [
    "f_only_pop = colab_count[(colab_count['f_colab'] > 0) & (colab_count['name'] == 1)]\n",
    "m_only_pop = colab_count[(colab_count['m_colab'] > 0) & (colab_count['name'] == 1)]\n",
    "f_tot = colab_count[(colab_count['f_colab'] > 0) & (colab_count['m_colab'] == 0)]\n",
    "m_tot = colab_count[(colab_count['m_colab'] > 0) & (colab_count['f_colab'] == 0)]\n",
    "print('% of papers with 1 FEMALE author as % of female only paper population: {0:0.2%} papers'.format(f_only_pop.shape[0]/sum(list(f_tot.f_colab))))\n",
    "print('% of papers with 1 MALE author as % of female only paper population: {0:0.2%} papers'.format(m_only_pop.shape[0]/sum(list(m_tot.m_colab))))"
   ]
  },
  {
   "cell_type": "code",
   "execution_count": 76,
   "metadata": {},
   "outputs": [
    {
     "name": "stdout",
     "output_type": "stream",
     "text": [
      "% of papers with 1 FEMALE author as % of female population: 12.36% papers\n",
      "% of papers with 1 MALE author as % of male population: 20.38% papers\n"
     ]
    }
   ],
   "source": [
    "f_only_pop = colab_count[(colab_count['f_colab'] > 0) & (colab_count['name'] == 1)]\n",
    "m_only_pop = colab_count[(colab_count['m_colab'] > 0) & (colab_count['name'] == 1)]\n",
    "f_tot = colab_count[(colab_count['f_colab'] > 0)]\n",
    "m_tot = colab_count[(colab_count['m_colab'] > 0)]\n",
    "print('% of papers with 1 FEMALE author as % of female population: {0:0.2%} papers'.format(f_only_pop.shape[0]/sum(list(f_tot.f_colab))))\n",
    "print('% of papers with 1 MALE author as % of male population: {0:0.2%} papers'.format(m_only_pop.shape[0]/sum(list(m_tot.m_colab))))"
   ]
  },
  {
   "cell_type": "code",
   "execution_count": 87,
   "metadata": {},
   "outputs": [
    {
     "name": "stdout",
     "output_type": "stream",
     "text": [
      "% of papers with 1 FEMALE author as % of TOTAL population: 2.03% papers\n",
      "% of papers with 1 MALE author as % of TOTAL population: 37.65% papers\n"
     ]
    }
   ],
   "source": [
    "print('% of papers with 1 FEMALE author as % of TOTAL population: {0:0.2%} papers'.format(f_only_pop.shape[0]/colab_count.shape[0]))\n",
    "print('% of papers with 1 MALE author as % of TOTAL population: {0:0.2%} papers'.format(m_only_pop.shape[0]/colab_count.shape[0]))"
   ]
  },
  {
   "cell_type": "code",
   "execution_count": null,
   "metadata": {},
   "outputs": [],
   "source": []
  }
 ],
 "metadata": {
  "kernelspec": {
   "display_name": "Python 3",
   "language": "python",
   "name": "python3"
  },
  "language_info": {
   "codemirror_mode": {
    "name": "ipython",
    "version": 3
   },
   "file_extension": ".py",
   "mimetype": "text/x-python",
   "name": "python",
   "nbconvert_exporter": "python",
   "pygments_lexer": "ipython3",
   "version": "3.7.4"
  }
 },
 "nbformat": 4,
 "nbformat_minor": 2
}
