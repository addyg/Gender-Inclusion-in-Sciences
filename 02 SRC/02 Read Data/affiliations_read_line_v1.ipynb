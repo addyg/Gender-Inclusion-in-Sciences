{
 "cells": [
  {
   "cell_type": "code",
   "execution_count": 1,
   "metadata": {},
   "outputs": [],
   "source": [
    "import os\n",
    "import glob\n",
    "import pandas as pd\n",
    "import numpy as np\n",
    "import json\n",
    "import csv"
   ]
  },
  {
   "cell_type": "code",
   "execution_count": 8,
   "metadata": {},
   "outputs": [],
   "source": [
    "filepath = '/Users/adityagupta/Documents/04 Projects/01 GRIDS - Gender Inclusion/01 Data/01 American Physical Society/aps-dataset-metadata-2018/'\n",
    "files = glob.glob(os.path.join(filepath, '*/*/*.json'))"
   ]
  },
  {
   "cell_type": "code",
   "execution_count": 9,
   "metadata": {},
   "outputs": [
    {
     "data": {
      "text/plain": [
       "636294"
      ]
     },
     "execution_count": 9,
     "metadata": {},
     "output_type": "execute_result"
    }
   ],
   "source": [
    "len(files)"
   ]
  },
  {
   "cell_type": "code",
   "execution_count": 10,
   "metadata": {},
   "outputs": [],
   "source": [
    "for idx, file in enumerate(files):\n",
    "    with open(file) as train_file:\n",
    "        data = json.load(train_file)\n",
    "        \n",
    "        paper_id = data['id']\n",
    "        \n",
    "        if 'affiliations' in data:\n",
    "            for val in data['affiliations']:\n",
    "                \n",
    "                aff_id = val['id'] if 'id' in val else np.nan\n",
    "                name = val['name'] if 'name' in val else np.nan\n",
    "\n",
    "                with open('05 Data Dumps/instituitions_map_write_each_line_v1.csv', mode='a') as data_writer_file:\n",
    "                    data_writer = csv.writer(data_writer_file)\n",
    "                    data_writer.writerow([paper_id, aff_id, name])\n",
    "            "
   ]
  },
  {
   "cell_type": "code",
   "execution_count": null,
   "metadata": {},
   "outputs": [],
   "source": []
  },
  {
   "cell_type": "code",
   "execution_count": 11,
   "metadata": {},
   "outputs": [],
   "source": [
    "col = [\"paper_id\", \"aff_id\", \"name\"]\n",
    "df = pd.read_csv('05 Data Dumps/instituitions_map_write_each_line_v1.csv', names=col)"
   ]
  },
  {
   "cell_type": "code",
   "execution_count": 12,
   "metadata": {},
   "outputs": [
    {
     "data": {
      "text/html": [
       "<div>\n",
       "<style scoped>\n",
       "    .dataframe tbody tr th:only-of-type {\n",
       "        vertical-align: middle;\n",
       "    }\n",
       "\n",
       "    .dataframe tbody tr th {\n",
       "        vertical-align: top;\n",
       "    }\n",
       "\n",
       "    .dataframe thead th {\n",
       "        text-align: right;\n",
       "    }\n",
       "</style>\n",
       "<table border=\"1\" class=\"dataframe\">\n",
       "  <thead>\n",
       "    <tr style=\"text-align: right;\">\n",
       "      <th></th>\n",
       "      <th>paper_id</th>\n",
       "      <th>aff_id</th>\n",
       "      <th>name</th>\n",
       "    </tr>\n",
       "  </thead>\n",
       "  <tbody>\n",
       "    <tr>\n",
       "      <td>0</td>\n",
       "      <td>10.1103/PhysRevApplied.9.044027</td>\n",
       "      <td>a1</td>\n",
       "      <td>Toshiba Research Europe Ltd., Cambridge Resear...</td>\n",
       "    </tr>\n",
       "    <tr>\n",
       "      <td>1</td>\n",
       "      <td>10.1103/PhysRevApplied.9.044027</td>\n",
       "      <td>a2</td>\n",
       "      <td>Engineering Department, University of Cambridg...</td>\n",
       "    </tr>\n",
       "    <tr>\n",
       "      <td>2</td>\n",
       "      <td>10.1103/PhysRevApplied.9.054027</td>\n",
       "      <td>a1</td>\n",
       "      <td>NEST, Instituto Nanoscienze-CNR and Scuola Nor...</td>\n",
       "    </tr>\n",
       "    <tr>\n",
       "      <td>3</td>\n",
       "      <td>10.1103/PhysRevApplied.9.054027</td>\n",
       "      <td>a2</td>\n",
       "      <td>Low Temperature Laboratory, Department of Appl...</td>\n",
       "    </tr>\n",
       "    <tr>\n",
       "      <td>4</td>\n",
       "      <td>10.1103/PhysRevApplied.9.014005</td>\n",
       "      <td>a1</td>\n",
       "      <td>Center for Electron Microscopy and Microanalys...</td>\n",
       "    </tr>\n",
       "    <tr>\n",
       "      <td>...</td>\n",
       "      <td>...</td>\n",
       "      <td>...</td>\n",
       "      <td>...</td>\n",
       "    </tr>\n",
       "    <tr>\n",
       "      <td>1230604</td>\n",
       "      <td>10.1103/PhysRevSTAB.14.060710</td>\n",
       "      <td>a2</td>\n",
       "      <td>SLAC, Menlo Park, California 94309, USA</td>\n",
       "    </tr>\n",
       "    <tr>\n",
       "      <td>1230605</td>\n",
       "      <td>10.1103/PhysRevSTAB.14.014001</td>\n",
       "      <td>a1</td>\n",
       "      <td>Budker Institute of Nuclear Physics, Novosibir...</td>\n",
       "    </tr>\n",
       "    <tr>\n",
       "      <td>1230606</td>\n",
       "      <td>10.1103/PhysRevSTAB.14.014001</td>\n",
       "      <td>a2</td>\n",
       "      <td>INFN, Laboratori Nazionali di Frascati, Frasca...</td>\n",
       "    </tr>\n",
       "    <tr>\n",
       "      <td>1230607</td>\n",
       "      <td>10.1103/PhysRevSTAB.14.090401</td>\n",
       "      <td>a1</td>\n",
       "      <td>National Institute of Nuclear Physics and Phys...</td>\n",
       "    </tr>\n",
       "    <tr>\n",
       "      <td>1230608</td>\n",
       "      <td>10.1103/PhysRevSTAB.14.090401</td>\n",
       "      <td>a2</td>\n",
       "      <td>Institute of Electronics, Bulgarian Academy of...</td>\n",
       "    </tr>\n",
       "  </tbody>\n",
       "</table>\n",
       "<p>1230609 rows × 3 columns</p>\n",
       "</div>"
      ],
      "text/plain": [
       "                                paper_id aff_id  \\\n",
       "0        10.1103/PhysRevApplied.9.044027     a1   \n",
       "1        10.1103/PhysRevApplied.9.044027     a2   \n",
       "2        10.1103/PhysRevApplied.9.054027     a1   \n",
       "3        10.1103/PhysRevApplied.9.054027     a2   \n",
       "4        10.1103/PhysRevApplied.9.014005     a1   \n",
       "...                                  ...    ...   \n",
       "1230604    10.1103/PhysRevSTAB.14.060710     a2   \n",
       "1230605    10.1103/PhysRevSTAB.14.014001     a1   \n",
       "1230606    10.1103/PhysRevSTAB.14.014001     a2   \n",
       "1230607    10.1103/PhysRevSTAB.14.090401     a1   \n",
       "1230608    10.1103/PhysRevSTAB.14.090401     a2   \n",
       "\n",
       "                                                      name  \n",
       "0        Toshiba Research Europe Ltd., Cambridge Resear...  \n",
       "1        Engineering Department, University of Cambridg...  \n",
       "2        NEST, Instituto Nanoscienze-CNR and Scuola Nor...  \n",
       "3        Low Temperature Laboratory, Department of Appl...  \n",
       "4        Center for Electron Microscopy and Microanalys...  \n",
       "...                                                    ...  \n",
       "1230604            SLAC, Menlo Park, California 94309, USA  \n",
       "1230605  Budker Institute of Nuclear Physics, Novosibir...  \n",
       "1230606  INFN, Laboratori Nazionali di Frascati, Frasca...  \n",
       "1230607  National Institute of Nuclear Physics and Phys...  \n",
       "1230608  Institute of Electronics, Bulgarian Academy of...  \n",
       "\n",
       "[1230609 rows x 3 columns]"
      ]
     },
     "execution_count": 12,
     "metadata": {},
     "output_type": "execute_result"
    }
   ],
   "source": [
    "df"
   ]
  },
  {
   "cell_type": "code",
   "execution_count": null,
   "metadata": {},
   "outputs": [],
   "source": []
  }
 ],
 "metadata": {
  "kernelspec": {
   "display_name": "Python 3",
   "language": "python",
   "name": "python3"
  },
  "language_info": {
   "codemirror_mode": {
    "name": "ipython",
    "version": 3
   },
   "file_extension": ".py",
   "mimetype": "text/x-python",
   "name": "python",
   "nbconvert_exporter": "python",
   "pygments_lexer": "ipython3",
   "version": "3.7.4"
  }
 },
 "nbformat": 4,
 "nbformat_minor": 2
}
